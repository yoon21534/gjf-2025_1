{
 "cells": [
  {
   "cell_type": "markdown",
   "id": "ae6a8502",
   "metadata": {},
   "source": [
    "연산자\n"
   ]
  },
  {
   "cell_type": "code",
   "execution_count": 13,
   "id": "e20df0c2",
   "metadata": {},
   "outputs": [
    {
     "name": "stdout",
     "output_type": "stream",
     "text": [
      "16.0\n"
     ]
    }
   ],
   "source": [
    "# 연산자 우선순위\n",
    "print((10-2) *4/2 )"
   ]
  },
  {
   "cell_type": "code",
   "execution_count": 14,
   "id": "1157585f",
   "metadata": {},
   "outputs": [
    {
     "name": "stdout",
     "output_type": "stream",
     "text": [
      "1000\n"
     ]
    }
   ],
   "source": [
    "# 1. **         거듭제곱 \n",
    "# 2. * / // %   곱셈, 나눗셈\n",
    "# 3. + -        덧셈, 뺼셈\n",
    "# 4. == != > ?  비교연산자\n",
    "# 5. not        부정연산자\n",
    "# 6. and        AND로직\n",
    "# 7. or         OR로직\n",
    "\n",
    "a = 10\n",
    "b = 3\n",
    "print( a ** b ) # 10*10*10 = 1000"
   ]
  },
  {
   "cell_type": "code",
   "execution_count": 15,
   "id": "2ac27a2c",
   "metadata": {},
   "outputs": [
    {
     "name": "stdout",
     "output_type": "stream",
     "text": [
      "False\n",
      "True\n",
      "True\n",
      "False\n",
      "False\n",
      "True\n"
     ]
    }
   ],
   "source": [
    "# 비교연산자 : 결과는 True/False로 나온다.\n",
    "a = 5\n",
    "b = 3\n",
    "print( a == b) # 같은가\n",
    "print( a != b) #같지않은가\n",
    "print( a > b) #A가 더 큰가 . 초과\n",
    "print( a < b) #더 작은가 . 미만\n",
    "print( a <= b) # a가 b보다 같거나 작은가 . 이하\n",
    "print( a >= b) # 같거나 큰가 . 이상"
   ]
  },
  {
   "cell_type": "code",
   "execution_count": 16,
   "id": "4d699923",
   "metadata": {},
   "outputs": [
    {
     "name": "stdout",
     "output_type": "stream",
     "text": [
      "False\n",
      "True\n",
      "False\n"
     ]
    },
    {
     "data": {
      "text/plain": [
       "False"
      ]
     },
     "execution_count": 16,
     "metadata": {},
     "output_type": "execute_result"
    }
   ],
   "source": [
    "# 논리연산자 : 부정,AND,OR  / 결과는 True/False로 나온다.\n",
    "c = True\n",
    "d = False\n",
    "print( not c )\n",
    "print( c or d )\n",
    "print( c and d )\n",
    "not c"
   ]
  }
 ],
 "metadata": {
  "kernelspec": {
   "display_name": "Python 3",
   "language": "python",
   "name": "python3"
  },
  "language_info": {
   "codemirror_mode": {
    "name": "ipython",
    "version": 3
   },
   "file_extension": ".py",
   "mimetype": "text/x-python",
   "name": "python",
   "nbconvert_exporter": "python",
   "pygments_lexer": "ipython3",
   "version": "3.10.10"
  }
 },
 "nbformat": 4,
 "nbformat_minor": 5
}
