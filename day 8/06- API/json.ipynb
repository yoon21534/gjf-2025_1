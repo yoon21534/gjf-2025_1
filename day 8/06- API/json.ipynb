{
 "cells": [
  {
   "cell_type": "markdown",
   "metadata": {},
   "source": [
    "### json.dump(), json.dumps()\n",
    "Python 객체를 JSON 문자열로 인코딩 \n",
    "\n",
    "- json.dump(): 입력은 Python 객체, 출력은 파일에 저장\n",
    "- json.dumps(): 입력은 Python 객체, 출력은 JSON 문자열 "
   ]
  },
  {
   "cell_type": "code",
   "execution_count": 13,
   "metadata": {},
   "outputs": [],
   "source": [
    "import json\n",
    "\n",
    "# dump() \n",
    "# 파이썬 딕셔너리(dict 객체), JSON과 구조 유사\n",
    "data = {\n",
    "        \"country\": \"Korea\", \n",
    "        \"vehicle\": { \n",
    "               \"name\": \"Volkswagen\", \n",
    "               \"model\": \"T-Roc\" \n",
    "        } \n",
    "}\n",
    "\n",
    "# json 파일 생성 \n",
    "with open(\"file.json\", \"w\") as file:    \n",
    "       json.dump(data, file)\n",
    "       "
   ]
  },
  {
   "cell_type": "code",
   "execution_count": 5,
   "metadata": {},
   "outputs": [
    {
     "name": "stdout",
     "output_type": "stream",
     "text": [
      "{'country': 'Germany', 'vehicle': {'name': 'Volkswagen', 'model': 'T-Roc'}}\n",
      "<class 'dict'>\n",
      "{\"country\": \"Germany\", \"vehicle\": {\"name\": \"Volkswagen\", \"model\": \"T-Roc\"}}\n",
      "<class 'str'>\n"
     ]
    }
   ],
   "source": [
    "# dumps()\n",
    "# 파이썬 딕셔너리(dict 객체)\n",
    "data = {\n",
    "    \"country\": \"Germany\",\n",
    "    \"vehicle\": {\n",
    "        \"name\": \"Volkswagen\",\n",
    "        \"model\": \"T-Roc\"\n",
    "    }\n",
    "}\n",
    "print(data)\n",
    "print(type(data))\n",
    "\n",
    "json_str = json.dumps(data)\n",
    "\n",
    "print(json_str)\n",
    "print(type(json_str))"
   ]
  },
  {
   "cell_type": "code",
   "execution_count": 14,
   "metadata": {},
   "outputs": [
    {
     "name": "stdout",
     "output_type": "stream",
     "text": [
      "{\n",
      "  \"country\": \"Germany\",\n",
      "  \"vehicle\": {\n",
      "    \"name\": \"Volkswagen\",\n",
      "    \"model\": \"T-Roc\"\n",
      "  }\n",
      "}\n",
      "{\n",
      "  \"country\": \"Germany\",\n",
      "  \"vehicle\": {\n",
      "    \"name\": \"Volkswagen\",\n",
      "    \"model\": \"T-Roc\"\n",
      "  }\n",
      "}\n"
     ]
    }
   ],
   "source": [
    "# 키워드 인수 지정\n",
    "data = {\n",
    "    \"country\": \"Germany\",\n",
    "    \"vehicle\": {\n",
    "        \"name\": \"Volkswagen\",\n",
    "        \"model\": \"T-Roc\"\n",
    "    }\n",
    "}\n",
    "\n",
    "# 2칸 들여쓰기 \n",
    "print(json.dumps(data, indent=2))\n",
    "\n",
    "# 2칸 들여쓰기 + 한글 깨짐 방지\n",
    "print(json.dumps(data, indent=2, ensure_ascii=False))"
   ]
  },
  {
   "cell_type": "markdown",
   "metadata": {},
   "source": [
    "### json.load(), json.loads()\n",
    "JSON 문자열을 Python 객체로 변환\n",
    "\n",
    "- json.load(): 입력은 JSON 파일, 출력은 Python 객체\n",
    "- json.loads(): 입력은 JSON 문자열, 출력은 Python 객체"
   ]
  },
  {
   "cell_type": "code",
   "execution_count": 15,
   "metadata": {},
   "outputs": [
    {
     "name": "stdout",
     "output_type": "stream",
     "text": [
      "[{'userId': 1, 'id': 1, 'title': 'Meet with Lisa', 'completed': True}, {'userId': 1, 'id': 2, 'title': 'Design a prototype', 'completed': False}]\n"
     ]
    },
    {
     "data": {
      "text/plain": [
       "list"
      ]
     },
     "execution_count": 15,
     "metadata": {},
     "output_type": "execute_result"
    }
   ],
   "source": [
    "# load()\n",
    "# 'load.json'을 열어 확인해 봅시다! \n",
    "with open('load.json') as f:\n",
    "  data = json.load(f)\n",
    "\n",
    "print(data)  # [{'userId': 1, 'id': 1, 'title': 'Meet with Lisa', 'completed': True}, {'userId': 1, 'id': 2, 'title': 'Design a prototype', 'completed': False}]\n",
    "type(data)   # list"
   ]
  },
  {
   "cell_type": "code",
   "execution_count": 25,
   "metadata": {},
   "outputs": [
    {
     "name": "stdout",
     "output_type": "stream",
     "text": [
      "{'userId': 1, 'id': 1, 'title': 'Meet with Lisa', 'completed': True}\n",
      "<class 'dict'>\n",
      "Meet with Lisa\n",
      "<class 'str'>\n"
     ]
    }
   ],
   "source": [
    "# 첫 번째 요소의 title 출력\n",
    "print(data[0])\n",
    "print(type(data[0]))\n",
    "print(data[0]['title'])  # 중첩 딕셔너리 \n",
    "print(type(data[0]['title']))"
   ]
  },
  {
   "cell_type": "code",
   "execution_count": 24,
   "metadata": {},
   "outputs": [
    {
     "name": "stdout",
     "output_type": "stream",
     "text": [
      "Meet with Lisa\n",
      "Design a prototype\n"
     ]
    }
   ],
   "source": [
    "# 모든 요소의 title 출력\n",
    "# for 문을 이용한 리스트 순회 \n",
    "for d in data:\n",
    "    print(d['title'])"
   ]
  },
  {
   "cell_type": "code",
   "execution_count": 23,
   "metadata": {},
   "outputs": [
    {
     "name": "stdout",
     "output_type": "stream",
     "text": [
      "[{'userId': 1, 'id': 1, 'title': 'Meet with Lisa', 'completed': True}]\n"
     ]
    }
   ],
   "source": [
    "# 완료된 항목만 필터링\n",
    "completed = [d for d in data if d['completed']]  # 리스트 컴프리헨션\n",
    "print(completed)"
   ]
  },
  {
   "cell_type": "code",
   "execution_count": 22,
   "metadata": {},
   "outputs": [
    {
     "name": "stdout",
     "output_type": "stream",
     "text": [
      "<class 'str'>\n",
      "{'userId': '1', 'id': '1', 'title': 'Meet with Lisa', 'completed': True}\n"
     ]
    },
    {
     "data": {
      "text/plain": [
       "dict"
      ]
     },
     "execution_count": 22,
     "metadata": {},
     "output_type": "execute_result"
    }
   ],
   "source": [
    "# loads()\n",
    "json_str= '{\"userId\": \"1\", \"id\": \"1\", \"title\": \"Meet with Lisa\", \"completed\": true}'\n",
    "print(type(json_str))\n",
    "dat = json.loads(json_str)\n",
    "print(dat) # {'userId': '1', 'id': '1', 'title': 'Meet with Lisa', 'completed': 'True'}\n",
    "type(dat)"
   ]
  },
  {
   "cell_type": "markdown",
   "metadata": {},
   "source": [
    "### REST API 응답 처리 및 JSON 문자열 파싱"
   ]
  },
  {
   "cell_type": "code",
   "execution_count": 28,
   "metadata": {},
   "outputs": [
    {
     "name": "stdout",
     "output_type": "stream",
     "text": [
      "<Response [200]>\n",
      "<class 'str'>\n",
      "[{'id': 1, 'name': 'Leanne Graham', 'username': 'Bret', 'email': 'Sincere@april.biz', 'address': {'street': 'Kulas Light', 'suite': 'Apt. 556', 'city': 'Gwenborough', 'zipcode': '92998-3874', 'geo': {'lat': '-37.3159', 'lng': '81.1496'}}, 'phone': '1-770-736-8031 x56442', 'website': 'hildegard.org', 'company': {'name': 'Romaguera-Crona', 'catchPhrase': 'Multi-layered client-server neural-net', 'bs': 'harness real-time e-markets'}}, {'id': 2, 'name': 'Ervin Howell', 'username': 'Antonette', 'email': 'Shanna@melissa.tv', 'address': {'street': 'Victor Plains', 'suite': 'Suite 879', 'city': 'Wisokyburgh', 'zipcode': '90566-7771', 'geo': {'lat': '-43.9509', 'lng': '-34.4618'}}, 'phone': '010-692-6593 x09125', 'website': 'anastasia.net', 'company': {'name': 'Deckow-Crist', 'catchPhrase': 'Proactive didactic contingency', 'bs': 'synergize scalable supply-chains'}}, {'id': 3, 'name': 'Clementine Bauch', 'username': 'Samantha', 'email': 'Nathan@yesenia.net', 'address': {'street': 'Douglas Extension', 'suite': 'Suite 847', 'city': 'McKenziehaven', 'zipcode': '59590-4157', 'geo': {'lat': '-68.6102', 'lng': '-47.0653'}}, 'phone': '1-463-123-4447', 'website': 'ramiro.info', 'company': {'name': 'Romaguera-Jacobson', 'catchPhrase': 'Face to face bifurcated interface', 'bs': 'e-enable strategic applications'}}, {'id': 4, 'name': 'Patricia Lebsack', 'username': 'Karianne', 'email': 'Julianne.OConner@kory.org', 'address': {'street': 'Hoeger Mall', 'suite': 'Apt. 692', 'city': 'South Elvis', 'zipcode': '53919-4257', 'geo': {'lat': '29.4572', 'lng': '-164.2990'}}, 'phone': '493-170-9623 x156', 'website': 'kale.biz', 'company': {'name': 'Robel-Corkery', 'catchPhrase': 'Multi-tiered zero tolerance productivity', 'bs': 'transition cutting-edge web services'}}, {'id': 5, 'name': 'Chelsey Dietrich', 'username': 'Kamren', 'email': 'Lucio_Hettinger@annie.ca', 'address': {'street': 'Skiles Walks', 'suite': 'Suite 351', 'city': 'Roscoeview', 'zipcode': '33263', 'geo': {'lat': '-31.8129', 'lng': '62.5342'}}, 'phone': '(254)954-1289', 'website': 'demarco.info', 'company': {'name': 'Keebler LLC', 'catchPhrase': 'User-centric fault-tolerant solution', 'bs': 'revolutionize end-to-end systems'}}, {'id': 6, 'name': 'Mrs. Dennis Schulist', 'username': 'Leopoldo_Corkery', 'email': 'Karley_Dach@jasper.info', 'address': {'street': 'Norberto Crossing', 'suite': 'Apt. 950', 'city': 'South Christy', 'zipcode': '23505-1337', 'geo': {'lat': '-71.4197', 'lng': '71.7478'}}, 'phone': '1-477-935-8478 x6430', 'website': 'ola.org', 'company': {'name': 'Considine-Lockman', 'catchPhrase': 'Synchronised bottom-line interface', 'bs': 'e-enable innovative applications'}}, {'id': 7, 'name': 'Kurtis Weissnat', 'username': 'Elwyn.Skiles', 'email': 'Telly.Hoeger@billy.biz', 'address': {'street': 'Rex Trail', 'suite': 'Suite 280', 'city': 'Howemouth', 'zipcode': '58804-1099', 'geo': {'lat': '24.8918', 'lng': '21.8984'}}, 'phone': '210.067.6132', 'website': 'elvis.io', 'company': {'name': 'Johns Group', 'catchPhrase': 'Configurable multimedia task-force', 'bs': 'generate enterprise e-tailers'}}, {'id': 8, 'name': 'Nicholas Runolfsdottir V', 'username': 'Maxime_Nienow', 'email': 'Sherwood@rosamond.me', 'address': {'street': 'Ellsworth Summit', 'suite': 'Suite 729', 'city': 'Aliyaview', 'zipcode': '45169', 'geo': {'lat': '-14.3990', 'lng': '-120.7677'}}, 'phone': '586.493.6943 x140', 'website': 'jacynthe.com', 'company': {'name': 'Abernathy Group', 'catchPhrase': 'Implemented secondary concept', 'bs': 'e-enable extensible e-tailers'}}, {'id': 9, 'name': 'Glenna Reichert', 'username': 'Delphine', 'email': 'Chaim_McDermott@dana.io', 'address': {'street': 'Dayna Park', 'suite': 'Suite 449', 'city': 'Bartholomebury', 'zipcode': '76495-3109', 'geo': {'lat': '24.6463', 'lng': '-168.8889'}}, 'phone': '(775)976-6794 x41206', 'website': 'conrad.com', 'company': {'name': 'Yost and Sons', 'catchPhrase': 'Switchable contextually-based project', 'bs': 'aggregate real-time technologies'}}, {'id': 10, 'name': 'Clementina DuBuque', 'username': 'Moriah.Stanton', 'email': 'Rey.Padberg@karina.biz', 'address': {'street': 'Kattie Turnpike', 'suite': 'Suite 198', 'city': 'Lebsackbury', 'zipcode': '31428-2261', 'geo': {'lat': '-38.2386', 'lng': '57.2232'}}, 'phone': '024-648-3804', 'website': 'ambrose.net', 'company': {'name': 'Hoeger LLC', 'catchPhrase': 'Centralized empowering task-force', 'bs': 'target end-to-end models'}}]\n"
     ]
    },
    {
     "data": {
      "text/plain": [
       "list"
      ]
     },
     "execution_count": 28,
     "metadata": {},
     "output_type": "execute_result"
    }
   ],
   "source": [
    "import requests\n",
    "# 서버로부터 HTTP 응답 받기 \n",
    "response = requests.get(\"https://jsonplaceholder.typicode.com/users\")  # 텍스트 형식\n",
    "# 응답 상태 확인\n",
    "print(response)\n",
    "# 타입 확인\n",
    "print(type(response.text))  # 문자열이므로 파싱 또는 인덱싱 불가\n",
    "\n",
    "\n",
    "# Python 객체로 출력\n",
    "user = json.loads(response.text)\n",
    "print(user)  # 중첩 리스트: 딕셔너리가 담긴 리스트 구조\n",
    "type(user)   \n",
    "\n"
   ]
  },
  {
   "cell_type": "code",
   "execution_count": 29,
   "metadata": {},
   "outputs": [
    {
     "data": {
      "text/plain": [
       "10"
      ]
     },
     "execution_count": 29,
     "metadata": {},
     "output_type": "execute_result"
    }
   ],
   "source": [
    "len(user)"
   ]
  },
  {
   "cell_type": "code",
   "execution_count": 27,
   "metadata": {},
   "outputs": [
    {
     "name": "stdout",
     "output_type": "stream",
     "text": [
      "Leanne Graham\n"
     ]
    }
   ],
   "source": [
    "# 첫 번째 사용자의 이름 출력 \n",
    "print(user[0][\"name\"])  # 리스트 인덱싱"
   ]
  },
  {
   "cell_type": "code",
   "execution_count": null,
   "metadata": {},
   "outputs": [],
   "source": []
  },
  {
   "cell_type": "code",
   "execution_count": 30,
   "metadata": {},
   "outputs": [
    {
     "name": "stdout",
     "output_type": "stream",
     "text": [
      "Chaim_McDermott@dana.io\n"
     ]
    }
   ],
   "source": [
    "# 9 번째 사용자의 이메일 출력\n",
    "print(user[8]['email']) # 리스트 인덱싱"
   ]
  },
  {
   "cell_type": "code",
   "execution_count": 47,
   "metadata": {},
   "outputs": [
    {
     "name": "stdout",
     "output_type": "stream",
     "text": [
      "Kattie Turnpike\n"
     ]
    }
   ],
   "source": [
    "# 10번째 사용자가 사는 거리(street) 출력\n",
    "print(user[9]['address']['street']) "
   ]
  },
  {
   "cell_type": "markdown",
   "metadata": {},
   "source": [
    "### response.json()과 json.loads(response.text) 차이\n",
    "- response.json(): requests 라이브러리가 응답 데이터가 JSON이라고 판단할 경우, 자동으로 파싱하여 Python 객체로 반환\n",
    "- json.loads(response.text): 응답 데이터를 직접 문자열로 받아 수동으로 JSON 파싱 수행\n",
    "\n",
    "#### 에러 처리 방식\n",
    "- response.json(): 응답의 Content-Type 헤더가 application/json일 때만 파싱을 시도\n",
    "    - Content-Type이 JSON이 아닌데 실제 내용은 JSON이라면, 에러가 발생하거나 None 반환\n",
    "    - JSON이 깨져 있거나 형식이 틀려도 requests.exceptions.JSONDecodeError 발생\n",
    "- json.loads(response.text): Content-Type 상관없이 그냥 문자열을 JSON으로 파싱 \n",
    "    - 문자열이 JSON 형식이 아니면 에러"
   ]
  },
  {
   "cell_type": "code",
   "execution_count": 43,
   "metadata": {},
   "outputs": [
    {
     "name": "stdout",
     "output_type": "stream",
     "text": [
      "{\n",
      "    \"id\": 1,\n",
      "    \"name\": \"Leanne Graham\",\n",
      "    \"username\": \"Bret\",\n",
      "    \"email\": \"Sincere@april.biz\",\n",
      "    \"address\": {\n",
      "        \"street\": \"Kulas Light\",\n",
      "        \"suite\": \"Apt. 556\",\n",
      "        \"city\": \"Gwenborough\",\n",
      "        \"zipcode\": \"92998-3874\",\n",
      "        \"geo\": {\n",
      "            \"lat\": \"-37.3159\",\n",
      "            \"lng\": \"81.1496\"\n",
      "        }\n",
      "    },\n",
      "    \"phone\": \"1-770-736-8031 x56442\",\n",
      "    \"website\": \"hildegard.org\",\n",
      "    \"company\": {\n",
      "        \"name\": \"Romaguera-Crona\",\n",
      "        \"catchPhrase\": \"Multi-layered client-server neural-net\",\n",
      "        \"bs\": \"harness real-time e-markets\"\n",
      "    }\n",
      "}\n"
     ]
    }
   ],
   "source": [
    "# JSON을 파이썬 객체로 변환\n",
    "users = response.json()  # 내부적으로 json.loads(response.text)와 같은 역할\n",
    "# 첫 번째 사용자 정보만 보기 좋게 출력 (들여쓰기 + 한글 깨짐 방지)\n",
    "print(json.dumps(users[0], indent=4, ensure_ascii=False))"
   ]
  },
  {
   "cell_type": "code",
   "execution_count": 44,
   "metadata": {},
   "outputs": [
    {
     "ename": "JSONDecodeError",
     "evalue": "Expecting value: line 1 column 1 (char 0)",
     "output_type": "error",
     "traceback": [
      "\u001b[31m---------------------------------------------------------------------------\u001b[39m",
      "\u001b[31mJSONDecodeError\u001b[39m                           Traceback (most recent call last)",
      "\u001b[36mFile \u001b[39m\u001b[32mc:\\Users\\남윤정\\AppData\\Local\\Programs\\Python\\Python313\\Lib\\site-packages\\requests\\models.py:976\u001b[39m, in \u001b[36mResponse.json\u001b[39m\u001b[34m(self, **kwargs)\u001b[39m\n\u001b[32m    975\u001b[39m \u001b[38;5;28;01mtry\u001b[39;00m:\n\u001b[32m--> \u001b[39m\u001b[32m976\u001b[39m     \u001b[38;5;28;01mreturn\u001b[39;00m \u001b[43mcomplexjson\u001b[49m\u001b[43m.\u001b[49m\u001b[43mloads\u001b[49m\u001b[43m(\u001b[49m\u001b[38;5;28;43mself\u001b[39;49m\u001b[43m.\u001b[49m\u001b[43mtext\u001b[49m\u001b[43m,\u001b[49m\u001b[43m \u001b[49m\u001b[43m*\u001b[49m\u001b[43m*\u001b[49m\u001b[43mkwargs\u001b[49m\u001b[43m)\u001b[49m\n\u001b[32m    977\u001b[39m \u001b[38;5;28;01mexcept\u001b[39;00m JSONDecodeError \u001b[38;5;28;01mas\u001b[39;00m e:\n\u001b[32m    978\u001b[39m     \u001b[38;5;66;03m# Catch JSON-related errors and raise as requests.JSONDecodeError\u001b[39;00m\n\u001b[32m    979\u001b[39m     \u001b[38;5;66;03m# This aliases json.JSONDecodeError and simplejson.JSONDecodeError\u001b[39;00m\n",
      "\u001b[36mFile \u001b[39m\u001b[32mc:\\Users\\남윤정\\AppData\\Local\\Programs\\Python\\Python313\\Lib\\json\\__init__.py:346\u001b[39m, in \u001b[36mloads\u001b[39m\u001b[34m(s, cls, object_hook, parse_float, parse_int, parse_constant, object_pairs_hook, **kw)\u001b[39m\n\u001b[32m    343\u001b[39m \u001b[38;5;28;01mif\u001b[39;00m (\u001b[38;5;28mcls\u001b[39m \u001b[38;5;129;01mis\u001b[39;00m \u001b[38;5;28;01mNone\u001b[39;00m \u001b[38;5;129;01mand\u001b[39;00m object_hook \u001b[38;5;129;01mis\u001b[39;00m \u001b[38;5;28;01mNone\u001b[39;00m \u001b[38;5;129;01mand\u001b[39;00m\n\u001b[32m    344\u001b[39m         parse_int \u001b[38;5;129;01mis\u001b[39;00m \u001b[38;5;28;01mNone\u001b[39;00m \u001b[38;5;129;01mand\u001b[39;00m parse_float \u001b[38;5;129;01mis\u001b[39;00m \u001b[38;5;28;01mNone\u001b[39;00m \u001b[38;5;129;01mand\u001b[39;00m\n\u001b[32m    345\u001b[39m         parse_constant \u001b[38;5;129;01mis\u001b[39;00m \u001b[38;5;28;01mNone\u001b[39;00m \u001b[38;5;129;01mand\u001b[39;00m object_pairs_hook \u001b[38;5;129;01mis\u001b[39;00m \u001b[38;5;28;01mNone\u001b[39;00m \u001b[38;5;129;01mand\u001b[39;00m \u001b[38;5;129;01mnot\u001b[39;00m kw):\n\u001b[32m--> \u001b[39m\u001b[32m346\u001b[39m     \u001b[38;5;28;01mreturn\u001b[39;00m \u001b[43m_default_decoder\u001b[49m\u001b[43m.\u001b[49m\u001b[43mdecode\u001b[49m\u001b[43m(\u001b[49m\u001b[43ms\u001b[49m\u001b[43m)\u001b[49m\n\u001b[32m    347\u001b[39m \u001b[38;5;28;01mif\u001b[39;00m \u001b[38;5;28mcls\u001b[39m \u001b[38;5;129;01mis\u001b[39;00m \u001b[38;5;28;01mNone\u001b[39;00m:\n",
      "\u001b[36mFile \u001b[39m\u001b[32mc:\\Users\\남윤정\\AppData\\Local\\Programs\\Python\\Python313\\Lib\\json\\decoder.py:345\u001b[39m, in \u001b[36mJSONDecoder.decode\u001b[39m\u001b[34m(self, s, _w)\u001b[39m\n\u001b[32m    341\u001b[39m \u001b[38;5;250m\u001b[39m\u001b[33;03m\"\"\"Return the Python representation of ``s`` (a ``str`` instance\u001b[39;00m\n\u001b[32m    342\u001b[39m \u001b[33;03mcontaining a JSON document).\u001b[39;00m\n\u001b[32m    343\u001b[39m \n\u001b[32m    344\u001b[39m \u001b[33;03m\"\"\"\u001b[39;00m\n\u001b[32m--> \u001b[39m\u001b[32m345\u001b[39m obj, end = \u001b[38;5;28;43mself\u001b[39;49m\u001b[43m.\u001b[49m\u001b[43mraw_decode\u001b[49m\u001b[43m(\u001b[49m\u001b[43ms\u001b[49m\u001b[43m,\u001b[49m\u001b[43m \u001b[49m\u001b[43midx\u001b[49m\u001b[43m=\u001b[49m\u001b[43m_w\u001b[49m\u001b[43m(\u001b[49m\u001b[43ms\u001b[49m\u001b[43m,\u001b[49m\u001b[43m \u001b[49m\u001b[32;43m0\u001b[39;49m\u001b[43m)\u001b[49m\u001b[43m.\u001b[49m\u001b[43mend\u001b[49m\u001b[43m(\u001b[49m\u001b[43m)\u001b[49m\u001b[43m)\u001b[49m\n\u001b[32m    346\u001b[39m end = _w(s, end).end()\n",
      "\u001b[36mFile \u001b[39m\u001b[32mc:\\Users\\남윤정\\AppData\\Local\\Programs\\Python\\Python313\\Lib\\json\\decoder.py:363\u001b[39m, in \u001b[36mJSONDecoder.raw_decode\u001b[39m\u001b[34m(self, s, idx)\u001b[39m\n\u001b[32m    362\u001b[39m \u001b[38;5;28;01mexcept\u001b[39;00m \u001b[38;5;167;01mStopIteration\u001b[39;00m \u001b[38;5;28;01mas\u001b[39;00m err:\n\u001b[32m--> \u001b[39m\u001b[32m363\u001b[39m     \u001b[38;5;28;01mraise\u001b[39;00m JSONDecodeError(\u001b[33m\"\u001b[39m\u001b[33mExpecting value\u001b[39m\u001b[33m\"\u001b[39m, s, err.value) \u001b[38;5;28;01mfrom\u001b[39;00m\u001b[38;5;250m \u001b[39m\u001b[38;5;28;01mNone\u001b[39;00m\n\u001b[32m    364\u001b[39m \u001b[38;5;28;01mreturn\u001b[39;00m obj, end\n",
      "\u001b[31mJSONDecodeError\u001b[39m: Expecting value: line 1 column 1 (char 0)",
      "\nDuring handling of the above exception, another exception occurred:\n",
      "\u001b[31mJSONDecodeError\u001b[39m                           Traceback (most recent call last)",
      "\u001b[36mCell\u001b[39m\u001b[36m \u001b[39m\u001b[32mIn[44]\u001b[39m\u001b[32m, line 3\u001b[39m\n\u001b[32m      1\u001b[39m \u001b[38;5;66;03m#\u001b[39;00m\n\u001b[32m      2\u001b[39m response = requests.get(\u001b[33m\"\u001b[39m\u001b[33mhttps://example.com/not-json\u001b[39m\u001b[33m\"\u001b[39m)\n\u001b[32m----> \u001b[39m\u001b[32m3\u001b[39m \u001b[43mresponse\u001b[49m\u001b[43m.\u001b[49m\u001b[43mjson\u001b[49m\u001b[43m(\u001b[49m\u001b[43m)\u001b[49m  \u001b[38;5;66;03m# 에러: JSONDecodeError\u001b[39;00m\n",
      "\u001b[36mFile \u001b[39m\u001b[32mc:\\Users\\남윤정\\AppData\\Local\\Programs\\Python\\Python313\\Lib\\site-packages\\requests\\models.py:980\u001b[39m, in \u001b[36mResponse.json\u001b[39m\u001b[34m(self, **kwargs)\u001b[39m\n\u001b[32m    976\u001b[39m     \u001b[38;5;28;01mreturn\u001b[39;00m complexjson.loads(\u001b[38;5;28mself\u001b[39m.text, **kwargs)\n\u001b[32m    977\u001b[39m \u001b[38;5;28;01mexcept\u001b[39;00m JSONDecodeError \u001b[38;5;28;01mas\u001b[39;00m e:\n\u001b[32m    978\u001b[39m     \u001b[38;5;66;03m# Catch JSON-related errors and raise as requests.JSONDecodeError\u001b[39;00m\n\u001b[32m    979\u001b[39m     \u001b[38;5;66;03m# This aliases json.JSONDecodeError and simplejson.JSONDecodeError\u001b[39;00m\n\u001b[32m--> \u001b[39m\u001b[32m980\u001b[39m     \u001b[38;5;28;01mraise\u001b[39;00m RequestsJSONDecodeError(e.msg, e.doc, e.pos)\n",
      "\u001b[31mJSONDecodeError\u001b[39m: Expecting value: line 1 column 1 (char 0)"
     ]
    }
   ],
   "source": [
    "# 응답의 Content-Type 헤더가 application/json일 때만 파싱 시도\n",
    "# Content-Type이 JSON이 아닌데 실제로는 JSON이라면 에러가 발생하거나 None 반환\n",
    "response = requests.get(\"https://example.com/not-json\") # HTML 반환\n",
    "response.json()  # 에러: JSONDecodeError"
   ]
  },
  {
   "cell_type": "code",
   "execution_count": 45,
   "metadata": {},
   "outputs": [
    {
     "ename": "JSONDecodeError",
     "evalue": "Expecting value: line 1 column 1 (char 0)",
     "output_type": "error",
     "traceback": [
      "\u001b[31m---------------------------------------------------------------------------\u001b[39m",
      "\u001b[31mJSONDecodeError\u001b[39m                           Traceback (most recent call last)",
      "\u001b[36mCell\u001b[39m\u001b[36m \u001b[39m\u001b[32mIn[45]\u001b[39m\u001b[32m, line 2\u001b[39m\n\u001b[32m      1\u001b[39m response = requests.get(\u001b[33m\"\u001b[39m\u001b[33mhttps://example.com/not-json\u001b[39m\u001b[33m\"\u001b[39m)\n\u001b[32m----> \u001b[39m\u001b[32m2\u001b[39m \u001b[43mjson\u001b[49m\u001b[43m.\u001b[49m\u001b[43mloads\u001b[49m\u001b[43m(\u001b[49m\u001b[43mresponse\u001b[49m\u001b[43m.\u001b[49m\u001b[43mtext\u001b[49m\u001b[43m)\u001b[49m  \n",
      "\u001b[36mFile \u001b[39m\u001b[32mc:\\Users\\남윤정\\AppData\\Local\\Programs\\Python\\Python313\\Lib\\json\\__init__.py:346\u001b[39m, in \u001b[36mloads\u001b[39m\u001b[34m(s, cls, object_hook, parse_float, parse_int, parse_constant, object_pairs_hook, **kw)\u001b[39m\n\u001b[32m    341\u001b[39m     s = s.decode(detect_encoding(s), \u001b[33m'\u001b[39m\u001b[33msurrogatepass\u001b[39m\u001b[33m'\u001b[39m)\n\u001b[32m    343\u001b[39m \u001b[38;5;28;01mif\u001b[39;00m (\u001b[38;5;28mcls\u001b[39m \u001b[38;5;129;01mis\u001b[39;00m \u001b[38;5;28;01mNone\u001b[39;00m \u001b[38;5;129;01mand\u001b[39;00m object_hook \u001b[38;5;129;01mis\u001b[39;00m \u001b[38;5;28;01mNone\u001b[39;00m \u001b[38;5;129;01mand\u001b[39;00m\n\u001b[32m    344\u001b[39m         parse_int \u001b[38;5;129;01mis\u001b[39;00m \u001b[38;5;28;01mNone\u001b[39;00m \u001b[38;5;129;01mand\u001b[39;00m parse_float \u001b[38;5;129;01mis\u001b[39;00m \u001b[38;5;28;01mNone\u001b[39;00m \u001b[38;5;129;01mand\u001b[39;00m\n\u001b[32m    345\u001b[39m         parse_constant \u001b[38;5;129;01mis\u001b[39;00m \u001b[38;5;28;01mNone\u001b[39;00m \u001b[38;5;129;01mand\u001b[39;00m object_pairs_hook \u001b[38;5;129;01mis\u001b[39;00m \u001b[38;5;28;01mNone\u001b[39;00m \u001b[38;5;129;01mand\u001b[39;00m \u001b[38;5;129;01mnot\u001b[39;00m kw):\n\u001b[32m--> \u001b[39m\u001b[32m346\u001b[39m     \u001b[38;5;28;01mreturn\u001b[39;00m \u001b[43m_default_decoder\u001b[49m\u001b[43m.\u001b[49m\u001b[43mdecode\u001b[49m\u001b[43m(\u001b[49m\u001b[43ms\u001b[49m\u001b[43m)\u001b[49m\n\u001b[32m    347\u001b[39m \u001b[38;5;28;01mif\u001b[39;00m \u001b[38;5;28mcls\u001b[39m \u001b[38;5;129;01mis\u001b[39;00m \u001b[38;5;28;01mNone\u001b[39;00m:\n\u001b[32m    348\u001b[39m     \u001b[38;5;28mcls\u001b[39m = JSONDecoder\n",
      "\u001b[36mFile \u001b[39m\u001b[32mc:\\Users\\남윤정\\AppData\\Local\\Programs\\Python\\Python313\\Lib\\json\\decoder.py:345\u001b[39m, in \u001b[36mJSONDecoder.decode\u001b[39m\u001b[34m(self, s, _w)\u001b[39m\n\u001b[32m    340\u001b[39m \u001b[38;5;28;01mdef\u001b[39;00m\u001b[38;5;250m \u001b[39m\u001b[34mdecode\u001b[39m(\u001b[38;5;28mself\u001b[39m, s, _w=WHITESPACE.match):\n\u001b[32m    341\u001b[39m \u001b[38;5;250m    \u001b[39m\u001b[33;03m\"\"\"Return the Python representation of ``s`` (a ``str`` instance\u001b[39;00m\n\u001b[32m    342\u001b[39m \u001b[33;03m    containing a JSON document).\u001b[39;00m\n\u001b[32m    343\u001b[39m \n\u001b[32m    344\u001b[39m \u001b[33;03m    \"\"\"\u001b[39;00m\n\u001b[32m--> \u001b[39m\u001b[32m345\u001b[39m     obj, end = \u001b[38;5;28;43mself\u001b[39;49m\u001b[43m.\u001b[49m\u001b[43mraw_decode\u001b[49m\u001b[43m(\u001b[49m\u001b[43ms\u001b[49m\u001b[43m,\u001b[49m\u001b[43m \u001b[49m\u001b[43midx\u001b[49m\u001b[43m=\u001b[49m\u001b[43m_w\u001b[49m\u001b[43m(\u001b[49m\u001b[43ms\u001b[49m\u001b[43m,\u001b[49m\u001b[43m \u001b[49m\u001b[32;43m0\u001b[39;49m\u001b[43m)\u001b[49m\u001b[43m.\u001b[49m\u001b[43mend\u001b[49m\u001b[43m(\u001b[49m\u001b[43m)\u001b[49m\u001b[43m)\u001b[49m\n\u001b[32m    346\u001b[39m     end = _w(s, end).end()\n\u001b[32m    347\u001b[39m     \u001b[38;5;28;01mif\u001b[39;00m end != \u001b[38;5;28mlen\u001b[39m(s):\n",
      "\u001b[36mFile \u001b[39m\u001b[32mc:\\Users\\남윤정\\AppData\\Local\\Programs\\Python\\Python313\\Lib\\json\\decoder.py:363\u001b[39m, in \u001b[36mJSONDecoder.raw_decode\u001b[39m\u001b[34m(self, s, idx)\u001b[39m\n\u001b[32m    361\u001b[39m     obj, end = \u001b[38;5;28mself\u001b[39m.scan_once(s, idx)\n\u001b[32m    362\u001b[39m \u001b[38;5;28;01mexcept\u001b[39;00m \u001b[38;5;167;01mStopIteration\u001b[39;00m \u001b[38;5;28;01mas\u001b[39;00m err:\n\u001b[32m--> \u001b[39m\u001b[32m363\u001b[39m     \u001b[38;5;28;01mraise\u001b[39;00m JSONDecodeError(\u001b[33m\"\u001b[39m\u001b[33mExpecting value\u001b[39m\u001b[33m\"\u001b[39m, s, err.value) \u001b[38;5;28;01mfrom\u001b[39;00m\u001b[38;5;250m \u001b[39m\u001b[38;5;28;01mNone\u001b[39;00m\n\u001b[32m    364\u001b[39m \u001b[38;5;28;01mreturn\u001b[39;00m obj, end\n",
      "\u001b[31mJSONDecodeError\u001b[39m: Expecting value: line 1 column 1 (char 0)"
     ]
    }
   ],
   "source": [
    "# JSON 문자열이 아니므로 에러 발생\n",
    "response = requests.get(\"https://example.com/not-json\")\n",
    "json.loads(response.text)  "
   ]
  },
  {
   "cell_type": "code",
   "execution_count": 49,
   "metadata": {},
   "outputs": [
    {
     "name": "stdout",
     "output_type": "stream",
     "text": [
      "data1 타입: <class 'dict'>\n",
      "data2 타입: <class 'dict'>\n",
      "두 결과가 같은가?: True\n"
     ]
    }
   ],
   "source": [
    "# GET 요청\n",
    "response = requests.get(\"https://jsonplaceholder.typicode.com/users/1\")\n",
    "\n",
    "# 두 가지 방식으로 파싱\n",
    "data1 = response.json()\n",
    "data2 = json.loads(response.text)\n",
    "\n",
    "# 결과 비교\n",
    "print(\"data1 타입:\", type(data1))\n",
    "print(\"data2 타입:\", type(data2))\n",
    "\n",
    "print(\"두 결과가 같은가?:\", data1 == data2)\n"
   ]
  },
  {
   "cell_type": "code",
   "execution_count": 51,
   "metadata": {},
   "outputs": [
    {
     "name": "stdout",
     "output_type": "stream",
     "text": [
      "JSON 형식이 아닙니다.\n"
     ]
    }
   ],
   "source": [
    "# 안전한 예외 처리 \n",
    "response = requests.get(\"https://example.com\")\n",
    "\n",
    "try:\n",
    "    data = json.loads(response.text)\n",
    "    print(data)\n",
    "except json.JSONDecodeError:\n",
    "    print(\"JSON 형식이 아닙니다.\")"
   ]
  },
  {
   "cell_type": "markdown",
   "metadata": {},
   "source": [
    "### 에러와 예외 처리\n",
    "- KeyError: 없는 키에 접근했을 때 발생\n",
    "    - 해결: 예외 처리, dict.get()\n",
    "- TypeError: 자료형이 잘못 되었을 때 발생 \n",
    "    - 해결: 타입 확인, 예외 처리\n",
    "- 예외 처리의 구조\n",
    "```\n",
    "try:\n",
    "    # 에러가 발생할 수 있는 코드\n",
    "except 예외종류:\n",
    "    # 예외가 발생했을 때 실행할 코드\n",
    "```"
   ]
  },
  {
   "cell_type": "code",
   "execution_count": 74,
   "metadata": {},
   "outputs": [
    {
     "name": "stdout",
     "output_type": "stream",
     "text": [
      "age 키가 존재하지 않습니다.\n"
     ]
    }
   ],
   "source": [
    "# KeyError 예외 처리\n",
    "data = {\"name\": \"Alice\"}\n",
    "\n",
    "try:\n",
    "    print(data[\"age\"])  # 존재하지 않는 키 → KeyError 발생\n",
    "except KeyError:\n",
    "    print(\"age 키가 존재하지 않습니다.\")"
   ]
  },
  {
   "cell_type": "code",
   "execution_count": 75,
   "metadata": {},
   "outputs": [
    {
     "name": "stdout",
     "output_type": "stream",
     "text": [
      "정보 없음\n"
     ]
    }
   ],
   "source": [
    "# dict.get() 사용(에러 없이 처리)\n",
    "print(data.get(\"age\", \"정보 없음\"))"
   ]
  },
  {
   "cell_type": "markdown",
   "metadata": {},
   "source": [
    "- dict.get(): 키가 없어도 에러 없이 기본값을 반환(KeyError 방지)\n",
    "- dict.get()의 사용 사례 \n",
    "    - 예외 없이 안전하게 접근하고 싶을 때\n",
    "    - 값이 없을 때 기본값을 주고 싶을 때\n",
    "    - API 응답, JSON 데이터처럼 구조가 항상 일정하지 않은 경우 \n",
    "  "
   ]
  },
  {
   "cell_type": "code",
   "execution_count": 76,
   "metadata": {},
   "outputs": [
    {
     "name": "stdout",
     "output_type": "stream",
     "text": [
      "None\n"
     ]
    }
   ],
   "source": [
    "print(data.get(\"age\"))"
   ]
  },
  {
   "cell_type": "code",
   "execution_count": 77,
   "metadata": {},
   "outputs": [
    {
     "name": "stdout",
     "output_type": "stream",
     "text": [
      "default\n"
     ]
    }
   ],
   "source": [
    "print(data.get(\"age\", \"default\")) # 값이 없으면 기본값 반환"
   ]
  },
  {
   "cell_type": "code",
   "execution_count": 56,
   "metadata": {},
   "outputs": [
    {
     "ename": "TypeError",
     "evalue": "'NoneType' object is not subscriptable",
     "output_type": "error",
     "traceback": [
      "\u001b[31m---------------------------------------------------------------------------\u001b[39m",
      "\u001b[31mTypeError\u001b[39m                                 Traceback (most recent call last)",
      "\u001b[36mCell\u001b[39m\u001b[36m \u001b[39m\u001b[32mIn[56]\u001b[39m\u001b[32m, line 3\u001b[39m\n\u001b[32m      1\u001b[39m \u001b[38;5;66;03m# TypeError 예시\u001b[39;00m\n\u001b[32m      2\u001b[39m user = {\u001b[33m\"\u001b[39m\u001b[33mname\u001b[39m\u001b[33m\"\u001b[39m: \u001b[33m\"\u001b[39m\u001b[33mAlice\u001b[39m\u001b[33m\"\u001b[39m, \u001b[33m\"\u001b[39m\u001b[33maddress\u001b[39m\u001b[33m\"\u001b[39m: \u001b[38;5;28;01mNone\u001b[39;00m}\n\u001b[32m----> \u001b[39m\u001b[32m3\u001b[39m \u001b[38;5;28mprint\u001b[39m(\u001b[43muser\u001b[49m\u001b[43m[\u001b[49m\u001b[33;43m\"\u001b[39;49m\u001b[33;43maddress\u001b[39;49m\u001b[33;43m\"\u001b[39;49m\u001b[43m]\u001b[49m\u001b[43m[\u001b[49m\u001b[33;43m\"\u001b[39;49m\u001b[33;43mcity\u001b[39;49m\u001b[33;43m\"\u001b[39;49m\u001b[43m]\u001b[49m) \n",
      "\u001b[31mTypeError\u001b[39m: 'NoneType' object is not subscriptable"
     ]
    }
   ],
   "source": [
    "# TypeError 예시\n",
    "user = {\"name\": \"Alice\", \"address\": None}\n",
    "print(user[\"address\"][\"city\"]) # None 타입 객체에 인덱싱 사용시 발생 "
   ]
  },
  {
   "cell_type": "code",
   "execution_count": 59,
   "metadata": {},
   "outputs": [
    {
     "name": "stdout",
     "output_type": "stream",
     "text": [
      "주소 정보 없음\n"
     ]
    }
   ],
   "source": [
    "# 타입 확인\n",
    "if isinstance(user[\"address\"], dict): # 인스턴스가 특정 클래스/데이터 타입인지 검사하는 함수, True/False 반환\n",
    "    print(user[\"address\"][\"city\"])\n",
    "else:\n",
    "    print(\"주소 정보 없음\")"
   ]
  },
  {
   "cell_type": "code",
   "execution_count": 31,
   "metadata": {},
   "outputs": [
    {
     "name": "stdout",
     "output_type": "stream",
     "text": [
      "False\n"
     ]
    }
   ],
   "source": [
    "print(isinstance(1, str))"
   ]
  },
  {
   "cell_type": "code",
   "execution_count": 62,
   "metadata": {},
   "outputs": [
    {
     "name": "stdout",
     "output_type": "stream",
     "text": [
      "False\n"
     ]
    }
   ],
   "source": [
    "print(isinstance({'a': 1}, list))"
   ]
  },
  {
   "cell_type": "code",
   "execution_count": 60,
   "metadata": {},
   "outputs": [
    {
     "name": "stdout",
     "output_type": "stream",
     "text": [
      "주소 정보가 없습니다.\n"
     ]
    }
   ],
   "source": [
    "# 예외 처리\n",
    "try:\n",
    "    print(user[\"address\"][\"city\"])\n",
    "except TypeError:\n",
    "    print(\"주소 정보가 없습니다.\")"
   ]
  },
  {
   "cell_type": "code",
   "execution_count": 54,
   "metadata": {},
   "outputs": [
    {
     "name": "stdout",
     "output_type": "stream",
     "text": [
      "KeyError 발생\n"
     ]
    }
   ],
   "source": [
    "# 여러 종류의 예외 처리 예시\n",
    "try:\n",
    "    print(data[\"age\"])\n",
    "    # 여러 코드\n",
    "except KeyError:\n",
    "    print(\"KeyError 발생\")\n",
    "except TypeError:\n",
    "    print(\"TypeError 발생\")"
   ]
  },
  {
   "cell_type": "markdown",
   "metadata": {},
   "source": [
    "#### HTML `<pre>` 태그\n",
    "- `<pre>`는 \"preformatted text\"의 줄임말\n",
    "- HTML에서 줄바꿈, 공백, 들여쓰기 등을 유지한 채 출력해주는 태그"
   ]
  },
  {
   "cell_type": "code",
   "execution_count": 63,
   "metadata": {},
   "outputs": [
    {
     "name": "stdout",
     "output_type": "stream",
     "text": [
      "<div> 사용 예시\n"
     ]
    },
    {
     "data": {
      "text/html": [
       "<div>\n",
       "{\n",
       "    \"name\": \"Alice\",\n",
       "    \"email\": \"alice@example.com\",\n",
       "    \"address\": {\n",
       "        \"city\": \"Seoul\",\n",
       "        \"zipcode\": \"12345\"\n",
       "    }\n",
       "}\n",
       "</div>"
      ],
      "text/plain": [
       "<IPython.core.display.HTML object>"
      ]
     },
     "metadata": {},
     "output_type": "display_data"
    },
    {
     "name": "stdout",
     "output_type": "stream",
     "text": [
      "------------------------------\n",
      "<p> 사용 예시\n"
     ]
    },
    {
     "data": {
      "text/html": [
       "<p>\n",
       "{\n",
       "    \"name\": \"Alice\",\n",
       "    \"email\": \"alice@example.com\",\n",
       "    \"address\": {\n",
       "        \"city\": \"Seoul\",\n",
       "        \"zipcode\": \"12345\"\n",
       "    }\n",
       "}\n",
       "</p>"
      ],
      "text/plain": [
       "<IPython.core.display.HTML object>"
      ]
     },
     "metadata": {},
     "output_type": "display_data"
    },
    {
     "name": "stdout",
     "output_type": "stream",
     "text": [
      "------------------------------\n",
      "<pre> 사용 예시\n"
     ]
    },
    {
     "data": {
      "text/html": [
       "<pre>\n",
       "{\n",
       "    \"name\": \"Alice\",\n",
       "    \"email\": \"alice@example.com\",\n",
       "    \"address\": {\n",
       "        \"city\": \"Seoul\",\n",
       "        \"zipcode\": \"12345\"\n",
       "    }\n",
       "}\n",
       "</pre>"
      ],
      "text/plain": [
       "<IPython.core.display.HTML object>"
      ]
     },
     "metadata": {},
     "output_type": "display_data"
    }
   ],
   "source": [
    "# IPython에서 HTML로 출력하기 위한 모듈\n",
    "from IPython.display import display, HTML\n",
    "\n",
    "# JSON 문자열 (들여쓰기 포함)\n",
    "json_s = \"\"\"\n",
    "{\n",
    "    \"name\": \"Alice\",\n",
    "    \"email\": \"alice@example.com\",\n",
    "    \"address\": {\n",
    "        \"city\": \"Seoul\",\n",
    "        \"zipcode\": \"12345\"\n",
    "    }\n",
    "}\n",
    "\"\"\"\n",
    "\n",
    "# <div> 사용: HTML 문서에서 영역을 나누는 블록 레벨 요소\n",
    "print(\"<div> 사용 예시\")\n",
    "display(HTML(f\"<div>{json_s}</div>\"))\n",
    "print(\"---\" * 10)\n",
    "# <p> 사용: HTML 문서에서 문단을 나타내는 요소\n",
    "print(\"<p> 사용 예시\")\n",
    "display(HTML(f\"<p>{json_s}</p>\"))\n",
    "print(\"---\" * 10)\n",
    "# <pre> 사용\n",
    "print(\"<pre> 사용 예시\")\n",
    "display(HTML(f\"<pre>{json_s}</pre>\"))"
   ]
  },
  {
   "cell_type": "code",
   "execution_count": 44,
   "metadata": {},
   "outputs": [
    {
     "data": {
      "text/html": [
       "<pre>[\n",
       "    {\n",
       "        \"id\": 1,\n",
       "        \"name\": \"Leanne Graham\",\n",
       "        \"username\": \"Bret\",\n",
       "        \"email\": \"Sincere@april.biz\",\n",
       "        \"address\": {\n",
       "            \"street\": \"Kulas Light\",\n",
       "            \"suite\": \"Apt. 556\",\n",
       "            \"city\": \"Gwenborough\",\n",
       "            \"zipcode\": \"92998-3874\",\n",
       "            \"geo\": {\n",
       "                \"lat\": \"-37.3159\",\n",
       "                \"lng\": \"81.1496\"\n",
       "            }\n",
       "        },\n",
       "        \"phone\": \"1-770-736-8031 x56442\",\n",
       "        \"website\": \"hildegard.org\",\n",
       "        \"company\": {\n",
       "            \"name\": \"Romaguera-Crona\",\n",
       "            \"catchPhrase\": \"Multi-layered client-server neural-net\",\n",
       "            \"bs\": \"harness real-time e-markets\"\n",
       "        }\n",
       "    },\n",
       "    {\n",
       "        \"id\": 2,\n",
       "        \"name\": \"Ervin Howell\",\n",
       "        \"username\": \"Antonette\",\n",
       "        \"email\": \"Shanna@melissa.tv\",\n",
       "        \"address\": {\n",
       "            \"street\": \"Victor Plains\",\n",
       "            \"suite\": \"Suite 879\",\n",
       "            \"city\": \"Wisokyburgh\",\n",
       "            \"zipcode\": \"90566-7771\",\n",
       "            \"geo\": {\n",
       "                \"lat\": \"-43.9509\",\n",
       "                \"lng\": \"-34.4618\"\n",
       "            }\n",
       "        },\n",
       "        \"phone\": \"010-692-6593 x09125\",\n",
       "        \"website\": \"anastasia.net\",\n",
       "        \"company\": {\n",
       "            \"name\": \"Deckow-Crist\",\n",
       "            \"catchPhrase\": \"Proactive didactic contingency\",\n",
       "            \"bs\": \"synergize scalable supply-chains\"\n",
       "        }\n",
       "    },\n",
       "    {\n",
       "        \"id\": 3,\n",
       "        \"name\": \"Clementine Bauch\",\n",
       "        \"username\": \"Samantha\",\n",
       "        \"email\": \"Nathan@yesenia.net\",\n",
       "        \"address\": {\n",
       "            \"street\": \"Douglas Extension\",\n",
       "            \"suite\": \"Suite 847\",\n",
       "            \"city\": \"McKenziehaven\",\n",
       "            \"zipcode\": \"59590-4157\",\n",
       "            \"geo\": {\n",
       "                \"lat\": \"-68.6102\",\n",
       "                \"lng\": \"-47.0653\"\n",
       "            }\n",
       "        },\n",
       "        \"phone\": \"1-463-123-4447\",\n",
       "        \"website\": \"ramiro.info\",\n",
       "        \"company\": {\n",
       "            \"name\": \"Romaguera-Jacobson\",\n",
       "            \"catchPhrase\": \"Face to face bifurcated interface\",\n",
       "            \"bs\": \"e-enable strategic applications\"\n",
       "        }\n",
       "    },\n",
       "    {\n",
       "        \"id\": 4,\n",
       "        \"name\": \"Patricia Lebsack\",\n",
       "        \"username\": \"Karianne\",\n",
       "        \"email\": \"Julianne.OConner@kory.org\",\n",
       "        \"address\": {\n",
       "            \"street\": \"Hoeger Mall\",\n",
       "            \"suite\": \"Apt. 692\",\n",
       "            \"city\": \"South Elvis\",\n",
       "            \"zipcode\": \"53919-4257\",\n",
       "            \"geo\": {\n",
       "                \"lat\": \"29.4572\",\n",
       "                \"lng\": \"-164.2990\"\n",
       "            }\n",
       "        },\n",
       "        \"phone\": \"493-170-9623 x156\",\n",
       "        \"website\": \"kale.biz\",\n",
       "        \"company\": {\n",
       "            \"name\": \"Robel-Corkery\",\n",
       "            \"catchPhrase\": \"Multi-tiered zero tolerance productivity\",\n",
       "            \"bs\": \"transition cutting-edge web services\"\n",
       "        }\n",
       "    },\n",
       "    {\n",
       "        \"id\": 5,\n",
       "        \"name\": \"Chelsey Dietrich\",\n",
       "        \"username\": \"Kamren\",\n",
       "        \"email\": \"Lucio_Hettinger@annie.ca\",\n",
       "        \"address\": {\n",
       "            \"street\": \"Skiles Walks\",\n",
       "            \"suite\": \"Suite 351\",\n",
       "            \"city\": \"Roscoeview\",\n",
       "            \"zipcode\": \"33263\",\n",
       "            \"geo\": {\n",
       "                \"lat\": \"-31.8129\",\n",
       "                \"lng\": \"62.5342\"\n",
       "            }\n",
       "        },\n",
       "        \"phone\": \"(254)954-1289\",\n",
       "        \"website\": \"demarco.info\",\n",
       "        \"company\": {\n",
       "            \"name\": \"Keebler LLC\",\n",
       "            \"catchPhrase\": \"User-centric fault-tolerant solution\",\n",
       "            \"bs\": \"revolutionize end-to-end systems\"\n",
       "        }\n",
       "    },\n",
       "    {\n",
       "        \"id\": 6,\n",
       "        \"name\": \"Mrs. Dennis Schulist\",\n",
       "        \"username\": \"Leopoldo_Corkery\",\n",
       "        \"email\": \"Karley_Dach@jasper.info\",\n",
       "        \"address\": {\n",
       "            \"street\": \"Norberto Crossing\",\n",
       "            \"suite\": \"Apt. 950\",\n",
       "            \"city\": \"South Christy\",\n",
       "            \"zipcode\": \"23505-1337\",\n",
       "            \"geo\": {\n",
       "                \"lat\": \"-71.4197\",\n",
       "                \"lng\": \"71.7478\"\n",
       "            }\n",
       "        },\n",
       "        \"phone\": \"1-477-935-8478 x6430\",\n",
       "        \"website\": \"ola.org\",\n",
       "        \"company\": {\n",
       "            \"name\": \"Considine-Lockman\",\n",
       "            \"catchPhrase\": \"Synchronised bottom-line interface\",\n",
       "            \"bs\": \"e-enable innovative applications\"\n",
       "        }\n",
       "    },\n",
       "    {\n",
       "        \"id\": 7,\n",
       "        \"name\": \"Kurtis Weissnat\",\n",
       "        \"username\": \"Elwyn.Skiles\",\n",
       "        \"email\": \"Telly.Hoeger@billy.biz\",\n",
       "        \"address\": {\n",
       "            \"street\": \"Rex Trail\",\n",
       "            \"suite\": \"Suite 280\",\n",
       "            \"city\": \"Howemouth\",\n",
       "            \"zipcode\": \"58804-1099\",\n",
       "            \"geo\": {\n",
       "                \"lat\": \"24.8918\",\n",
       "                \"lng\": \"21.8984\"\n",
       "            }\n",
       "        },\n",
       "        \"phone\": \"210.067.6132\",\n",
       "        \"website\": \"elvis.io\",\n",
       "        \"company\": {\n",
       "            \"name\": \"Johns Group\",\n",
       "            \"catchPhrase\": \"Configurable multimedia task-force\",\n",
       "            \"bs\": \"generate enterprise e-tailers\"\n",
       "        }\n",
       "    },\n",
       "    {\n",
       "        \"id\": 8,\n",
       "        \"name\": \"Nicholas Runolfsdottir V\",\n",
       "        \"username\": \"Maxime_Nienow\",\n",
       "        \"email\": \"Sherwood@rosamond.me\",\n",
       "        \"address\": {\n",
       "            \"street\": \"Ellsworth Summit\",\n",
       "            \"suite\": \"Suite 729\",\n",
       "            \"city\": \"Aliyaview\",\n",
       "            \"zipcode\": \"45169\",\n",
       "            \"geo\": {\n",
       "                \"lat\": \"-14.3990\",\n",
       "                \"lng\": \"-120.7677\"\n",
       "            }\n",
       "        },\n",
       "        \"phone\": \"586.493.6943 x140\",\n",
       "        \"website\": \"jacynthe.com\",\n",
       "        \"company\": {\n",
       "            \"name\": \"Abernathy Group\",\n",
       "            \"catchPhrase\": \"Implemented secondary concept\",\n",
       "            \"bs\": \"e-enable extensible e-tailers\"\n",
       "        }\n",
       "    },\n",
       "    {\n",
       "        \"id\": 9,\n",
       "        \"name\": \"Glenna Reichert\",\n",
       "        \"username\": \"Delphine\",\n",
       "        \"email\": \"Chaim_McDermott@dana.io\",\n",
       "        \"address\": {\n",
       "            \"street\": \"Dayna Park\",\n",
       "            \"suite\": \"Suite 449\",\n",
       "            \"city\": \"Bartholomebury\",\n",
       "            \"zipcode\": \"76495-3109\",\n",
       "            \"geo\": {\n",
       "                \"lat\": \"24.6463\",\n",
       "                \"lng\": \"-168.8889\"\n",
       "            }\n",
       "        },\n",
       "        \"phone\": \"(775)976-6794 x41206\",\n",
       "        \"website\": \"conrad.com\",\n",
       "        \"company\": {\n",
       "            \"name\": \"Yost and Sons\",\n",
       "            \"catchPhrase\": \"Switchable contextually-based project\",\n",
       "            \"bs\": \"aggregate real-time technologies\"\n",
       "        }\n",
       "    },\n",
       "    {\n",
       "        \"id\": 10,\n",
       "        \"name\": \"Clementina DuBuque\",\n",
       "        \"username\": \"Moriah.Stanton\",\n",
       "        \"email\": \"Rey.Padberg@karina.biz\",\n",
       "        \"address\": {\n",
       "            \"street\": \"Kattie Turnpike\",\n",
       "            \"suite\": \"Suite 198\",\n",
       "            \"city\": \"Lebsackbury\",\n",
       "            \"zipcode\": \"31428-2261\",\n",
       "            \"geo\": {\n",
       "                \"lat\": \"-38.2386\",\n",
       "                \"lng\": \"57.2232\"\n",
       "            }\n",
       "        },\n",
       "        \"phone\": \"024-648-3804\",\n",
       "        \"website\": \"ambrose.net\",\n",
       "        \"company\": {\n",
       "            \"name\": \"Hoeger LLC\",\n",
       "            \"catchPhrase\": \"Centralized empowering task-force\",\n",
       "            \"bs\": \"target end-to-end models\"\n",
       "        }\n",
       "    }\n",
       "]</pre>"
      ],
      "text/plain": [
       "<IPython.core.display.HTML object>"
      ]
     },
     "metadata": {},
     "output_type": "display_data"
    }
   ],
   "source": [
    "# 전체 데이터 출력\n",
    "# users 데이터를 JSON 문자열로 변환 (들여쓰기 포함, 한글 깨짐 방지)\n",
    "json_string = json.dumps(users, indent=4, ensure_ascii=False)  # ensure_ascii=False: 한글이나 유니코드 깨짐 방지\n",
    "# JSON 형식으로 출력(HTML <pre> 태그 사용)\n",
    "display(HTML(f\"<pre>{json_string}</pre>\"))"
   ]
  },
  {
   "cell_type": "markdown",
   "metadata": {},
   "source": [
    "### 실습\n",
    "\n",
    "#### 1. JSON 문자열 생성"
   ]
  },
  {
   "cell_type": "code",
   "execution_count": 12,
   "metadata": {},
   "outputs": [
    {
     "name": "stdout",
     "output_type": "stream",
     "text": [
      "{'name': 'Alice', 'email': 'alice@example.com', 'is_active': True, 'hobbies': ['reading', 'traveling']}\n",
      "<class 'dict'>\n",
      "{\"name\": \"Alice\", \"email\": \"alice@example.com\", \"is_active\": true, \"hobbies\": [\"reading\", \"traveling\"]}\n",
      "<class 'str'>\n"
     ]
    }
   ],
   "source": [
    "# 1-1. json.dumps()를 사용해 JSON 문자열을 생성해 보세요.\n",
    "data = {\n",
    "    \"name\": \"Alice\",\n",
    "    \"email\": \"alice@example.com\",\n",
    "    \"is_active\": True,\n",
    "    \"hobbies\": [\"reading\", \"traveling\"]\n",
    "}\n",
    "# 답안\n",
    "import json\n",
    "print(data)\n",
    "print(type(data))\n",
    "\n",
    "json_str = json.dumps(data)\n",
    "\n",
    "print(json_str)\n",
    "print(type(json_str))"
   ]
  },
  {
   "cell_type": "markdown",
   "metadata": {},
   "source": [
    "#### 2. 키 파싱 연습"
   ]
  },
  {
   "cell_type": "code",
   "execution_count": 36,
   "metadata": {},
   "outputs": [
    {
     "name": "stdout",
     "output_type": "stream",
     "text": [
      "sunt aut facere repellat provident occaecati excepturi optio reprehenderit\n"
     ]
    }
   ],
   "source": [
    "# 2-1. https://jsonplaceholder.typicode.com/posts/1 에서 데이터를 받아 title 키 값을 출력해 보세요. \n",
    "# 답안\n",
    "\n",
    "data = {\n",
    "  \"userId\": 1,\n",
    "  \"id\": 1,\n",
    "  \"title\": \"sunt aut facere repellat provident occaecati excepturi optio reprehenderit\",\n",
    "  \"body\": \"quia et suscipit\\nsuscipit recusandae consequuntur expedita et cum\\nreprehenderit molestiae ut ut quas totam\\nnostrum rerum est autem sunt rem eveniet architecto\"\n",
    "}\n",
    "print(data['title'])"
   ]
  },
  {
   "cell_type": "code",
   "execution_count": 38,
   "metadata": {},
   "outputs": [
    {
     "name": "stdout",
     "output_type": "stream",
     "text": [
      "quia et suscipit\n",
      "suscipit recusandae consequuntur expedita et cum\n",
      "reprehenderit molestiae ut ut quas totam\n",
      "nostrum rerum est autem sunt rem eveniet architecto\n"
     ]
    }
   ],
   "source": [
    "# 2-2. body 키 값을 출력해 보세요. \n",
    "# 답안\n",
    "data = {\n",
    "  \"userId\": 1,\n",
    "  \"id\": 1,\n",
    "  \"title\": \"sunt aut facere repellat provident occaecati excepturi optio reprehenderit\",\n",
    "  \"body\": \"quia et suscipit\\nsuscipit recusandae consequuntur expedita et cum\\nreprehenderit molestiae ut ut quas totam\\nnostrum rerum est autem sunt rem eveniet architecto\"\n",
    "}\n",
    "print(data[\"body\"])\n"
   ]
  },
  {
   "cell_type": "markdown",
   "metadata": {},
   "source": [
    "#### 3. 리스트 반복 "
   ]
  },
  {
   "cell_type": "code",
   "execution_count": 39,
   "metadata": {},
   "outputs": [
    {
     "name": "stdout",
     "output_type": "stream",
     "text": [
      "{'id': 1, 'name': 'Leanne Graham', 'username': 'Bret', 'email': 'Sincere@april.biz', 'address': {'street': 'Kulas Light', 'suite': 'Apt. 556', 'city': 'Gwenborough', 'zipcode': '92998-3874', 'geo': {'lat': '-37.3159', 'lng': '81.1496'}}, 'phone': '1-770-736-8031 x56442', 'website': 'hildegard.org', 'company': {'name': 'Romaguera-Crona', 'catchPhrase': 'Multi-layered client-server neural-net', 'bs': 'harness real-time e-markets'}}\n"
     ]
    }
   ],
   "source": [
    "response = requests.get(\"https://jsonplaceholder.typicode.com/users\")\n",
    "users = response.json()\n",
    "\n",
    "# 3-1. 첫 번째 user 정보를 출력해 보세요. \n",
    "# 답안\n",
    "print(user[0])\n"
   ]
  },
  {
   "cell_type": "code",
   "execution_count": 50,
   "metadata": {},
   "outputs": [
    {
     "ename": "SyntaxError",
     "evalue": "invalid syntax. Perhaps you forgot a comma? (2060097377.py, line 5)",
     "output_type": "error",
     "traceback": [
      "\u001b[1;36m  Cell \u001b[1;32mIn[50], line 5\u001b[1;36m\u001b[0m\n\u001b[1;33m    print(user[]['name'])\u001b[0m\n\u001b[1;37m          ^\u001b[0m\n\u001b[1;31mSyntaxError\u001b[0m\u001b[1;31m:\u001b[0m invalid syntax. Perhaps you forgot a comma?\n"
     ]
    }
   ],
   "source": [
    "# 3-2. 모든 user의 이름을 출력해 보세요. \n",
    "# 답안\n",
    "response = requests.get(\"https://jsonplaceholder.typicode.com/users\")\n",
    "users = response.json()\n",
    "print(user[]['name'])"
   ]
  },
  {
   "cell_type": "code",
   "execution_count": 7,
   "metadata": {},
   "outputs": [
    {
     "name": "stdout",
     "output_type": "stream",
     "text": [
      "email: Sincere@april.biz, username: Bret\n",
      "email: Shanna@melissa.tv, username: Antonette\n",
      "email: Nathan@yesenia.net, username: Samantha\n",
      "email: Julianne.OConner@kory.org, username: Karianne\n",
      "email: Lucio_Hettinger@annie.ca, username: Kamren\n",
      "email: Karley_Dach@jasper.info, username: Leopoldo_Corkery\n",
      "email: Telly.Hoeger@billy.biz, username: Elwyn.Skiles\n",
      "email: Sherwood@rosamond.me, username: Maxime_Nienow\n",
      "email: Chaim_McDermott@dana.io, username: Delphine\n",
      "email: Rey.Padberg@karina.biz, username: Moriah.Stanton\n"
     ]
    }
   ],
   "source": [
    "# 3-3. 모든 유저의 이메일 주소와 user name을 출력해 보세요.\n",
    "# 답안\n"
   ]
  },
  {
   "cell_type": "markdown",
   "metadata": {},
   "source": [
    "#### 4. 중첩 JSON 파싱"
   ]
  },
  {
   "cell_type": "code",
   "execution_count": 13,
   "metadata": {},
   "outputs": [
    {
     "name": "stdout",
     "output_type": "stream",
     "text": [
      "Gwenborough\n"
     ]
    }
   ],
   "source": [
    "# 4-1. 첫 번째 user가 사는 도시(city)를 출력해 보세요. \n",
    "# 답안"
   ]
  },
  {
   "cell_type": "code",
   "execution_count": 27,
   "metadata": {},
   "outputs": [
    {
     "name": "stdout",
     "output_type": "stream",
     "text": [
      "Leanne Graham lives in Gwenborough.\n",
      "Ervin Howell lives in Wisokyburgh.\n",
      "Clementine Bauch lives in McKenziehaven.\n",
      "Patricia Lebsack lives in South Elvis.\n",
      "Chelsey Dietrich lives in Roscoeview.\n",
      "Mrs. Dennis Schulist lives in South Christy.\n",
      "Kurtis Weissnat lives in Howemouth.\n",
      "Nicholas Runolfsdottir V lives in Aliyaview.\n",
      "Glenna Reichert lives in Bartholomebury.\n",
      "Clementina DuBuque lives in Lebsackbury.\n"
     ]
    }
   ],
   "source": [
    "# 4-2. 모든 \"user lives in city.\"를 출력해보세요.\n",
    "# 답안"
   ]
  },
  {
   "cell_type": "code",
   "execution_count": 29,
   "metadata": {},
   "outputs": [
    {
     "name": "stdout",
     "output_type": "stream",
     "text": [
      "Leanne Graham lives in Gwenborough, works at Romaguera-Crona.\n",
      "Ervin Howell lives in Wisokyburgh, works at Deckow-Crist.\n",
      "Clementine Bauch lives in McKenziehaven, works at Romaguera-Jacobson.\n",
      "Patricia Lebsack lives in South Elvis, works at Robel-Corkery.\n",
      "Chelsey Dietrich lives in Roscoeview, works at Keebler LLC.\n",
      "Mrs. Dennis Schulist lives in South Christy, works at Considine-Lockman.\n",
      "Kurtis Weissnat lives in Howemouth, works at Johns Group.\n",
      "Nicholas Runolfsdottir V lives in Aliyaview, works at Abernathy Group.\n",
      "Glenna Reichert lives in Bartholomebury, works at Yost and Sons.\n",
      "Clementina DuBuque lives in Lebsackbury, works at Hoeger LLC.\n"
     ]
    }
   ],
   "source": [
    "# 4-3. 모든 \"user lives in city, work at company.\"를 출력해보세요.\n",
    "# 답안"
   ]
  },
  {
   "cell_type": "code",
   "execution_count": 31,
   "metadata": {},
   "outputs": [
    {
     "name": "stdout",
     "output_type": "stream",
     "text": [
      "Leanne Graham 위치: (-37.3159, 81.1496)\n",
      "Ervin Howell 위치: (-43.9509, -34.4618)\n",
      "Clementine Bauch 위치: (-68.6102, -47.0653)\n",
      "Patricia Lebsack 위치: (29.4572, -164.2990)\n",
      "Chelsey Dietrich 위치: (-31.8129, 62.5342)\n",
      "Mrs. Dennis Schulist 위치: (-71.4197, 71.7478)\n",
      "Kurtis Weissnat 위치: (24.8918, 21.8984)\n",
      "Nicholas Runolfsdottir V 위치: (-14.3990, -120.7677)\n",
      "Glenna Reichert 위치: (24.6463, -168.8889)\n",
      "Clementina DuBuque 위치: (-38.2386, 57.2232)\n"
     ]
    }
   ],
   "source": [
    "# 4-4. 모든 user 정보 중 geo 안의 위도/경도(lat/lng)를 출력해보세요.\n",
    "# 출력 형식: user 위치 : (위도, 경도)\n",
    "# 답안"
   ]
  },
  {
   "cell_type": "markdown",
   "metadata": {},
   "source": [
    "#### 5. 예외 처리"
   ]
  },
  {
   "cell_type": "code",
   "execution_count": 23,
   "metadata": {},
   "outputs": [
    {
     "name": "stdout",
     "output_type": "stream",
     "text": [
      "Romaguera-Jacobson\n",
      "해당 키가 존재하지 않습니다.\n"
     ]
    }
   ],
   "source": [
    "# 5-1.3번째 user의 회사 이름과 취미(hobbies)를 출력하고 싶습니다.\n",
    "# try-except 구문을 사용하여 \"hobbies\" 키가 없을 경우 \"해당 키가 존재하지 않습니다.\"가 출력하도록 코드를 작성하세요.\n",
    "# 답안"
   ]
  },
  {
   "cell_type": "code",
   "execution_count": 24,
   "metadata": {},
   "outputs": [
    {
     "name": "stdout",
     "output_type": "stream",
     "text": [
      "Romaguera-Jacobson\n",
      "해당 키가 존재하지 않습니다.\n"
     ]
    }
   ],
   "source": [
    "# 5-2. dict.get()을 사용해 \"hobbies\" 키가 없을 경우 \"해당 키가 존재하지 않습니다.\"가 출력하도록 코드를 작성하세요.\n",
    "# 답안"
   ]
  },
  {
   "cell_type": "code",
   "execution_count": 26,
   "metadata": {},
   "outputs": [
    {
     "name": "stdout",
     "output_type": "stream",
     "text": [
      "사용자 이름: Leanne Graham, 이메일 주소: (Sincere@april.biz), 도시: Gwenborough\n",
      "사용자 이름: Ervin Howell, 이메일 주소: (Shanna@melissa.tv), 도시: Wisokyburgh\n",
      "사용자 이름: Clementine Bauch, 이메일 주소: (Nathan@yesenia.net), 도시: McKenziehaven\n",
      "사용자 이름: Patricia Lebsack, 이메일 주소: (Julianne.OConner@kory.org), 도시: South Elvis\n",
      "사용자 이름: Chelsey Dietrich, 이메일 주소: (Lucio_Hettinger@annie.ca), 도시: Roscoeview\n",
      "사용자 이름: Mrs. Dennis Schulist, 이메일 주소: (Karley_Dach@jasper.info), 도시: South Christy\n",
      "사용자 이름: Kurtis Weissnat, 이메일 주소: (Telly.Hoeger@billy.biz), 도시: Howemouth\n",
      "사용자 이름: Nicholas Runolfsdottir V, 이메일 주소: (Sherwood@rosamond.me), 도시: Aliyaview\n",
      "사용자 이름: Glenna Reichert, 이메일 주소: (Chaim_McDermott@dana.io), 도시: Bartholomebury\n",
      "사용자 이름: Clementina DuBuque, 이메일 주소: (Rey.Padberg@karina.biz), 도시: Lebsackbury\n"
     ]
    }
   ],
   "source": [
    "# 5-3. user 정보 중 name, email, 그리고 주소의 city를 출력하세요.\n",
    "# address 키가 없는 경우는 \"주소 정보 없음\"으로 출력합니다.\n",
    "# 답안"
   ]
  }
 ],
 "metadata": {
  "kernelspec": {
   "display_name": "Python 3",
   "language": "python",
   "name": "python3"
  },
  "language_info": {
   "codemirror_mode": {
    "name": "ipython",
    "version": 3
   },
   "file_extension": ".py",
   "mimetype": "text/x-python",
   "name": "python",
   "nbconvert_exporter": "python",
   "pygments_lexer": "ipython3",
   "version": "3.10.10"
  }
 },
 "nbformat": 4,
 "nbformat_minor": 2
}
