{
 "cells": [
  {
   "cell_type": "code",
   "execution_count": 2,
   "metadata": {},
   "outputs": [
    {
     "name": "stdout",
     "output_type": "stream",
     "text": [
      "200\n"
     ]
    }
   ],
   "source": [
    "# Open API 호출\n",
    "import requests\n",
    "\n",
    "# 기상청 단기예보 API \n",
    "# \"기상청41_단기예보 조회서비스_오픈API활용가이드_241128.zip\" 내 워드 문서의 Call Back URL을 입력하세요. \n",
    "url = \"http://apis.data.go.kr/1360000/VilageFcstInfoService_2.0/getUltraSrtNcst\"\n",
    "\n",
    "# 요청 파라미터 \n",
    "params = {\n",
    "    \"serviceKey\": \"BMLjeZg0dxPlyRlOpId+zqa6A8LvQHQWyfK4B+o1eeYqKb5qAYCnvNNyHGY+BWGYQCVT7Dm331Howg9sXeNYDw==\",  # ← 일반 인증키(Decoding)로 바꾸세요\n",
    "    \"pageNo\": \"1\",  # 페이지 번호\n",
    "    \"numOfRows\": \"10\",  # 한 페이지 결과 수 \n",
    "    \"dataType\": \"JSON\",    # 요청 자료 형식\n",
    "    \"base_date\": \"20250716\",  # 발표 날짜(예: 오늘 날짜)\n",
    "    \"base_time\": \"1400\",      # 발표 시간(정시 단위, 예: 0600(06시), 매시각 10분 이후 호출)\n",
    "\n",
    "    \"nx\": \"60\",               # 예보 지점의 x좌표\n",
    "    \"ny\": \"127\"               # 예보 지점의 y좌표\n",
    "}\n",
    "# API 호출 \n",
    "response = requests.get(url, params=params)\n",
    "# 응답 확인\n",
    "print(response.status_code)"
   ]
  },
  {
   "cell_type": "code",
   "execution_count": 3,
   "metadata": {},
   "outputs": [
    {
     "name": "stdout",
     "output_type": "stream",
     "text": [
      "{\"response\":{\"header\":{\"resultCode\":\"00\",\"resultMsg\":\"NORMAL_SERVICE\"},\"body\":{\"dataType\":\"JSON\",\"items\":{\"item\":[{\"baseDate\":\"20250716\",\"baseTime\":\"1400\",\"category\":\"PTY\",\"nx\":60,\"ny\":127,\"obsrValue\":\"1\"},{\"baseDate\":\"20250716\",\"baseTime\":\"1400\",\"category\":\"REH\",\"nx\":60,\"ny\":127,\"obsrValue\":\"88\"},{\"baseDate\":\"20250716\",\"baseTime\":\"1400\",\"category\":\"RN1\",\"nx\":60,\"ny\":127,\"obsrValue\":\"0.8\"},{\"baseDate\":\"20250716\",\"baseTime\":\"1400\",\"category\":\"T1H\",\"nx\":60,\"ny\":127,\"obsrValue\":\"23\"},{\"baseDate\":\"2\n"
     ]
    }
   ],
   "source": [
    "print(response.text[:500])"
   ]
  },
  {
   "cell_type": "code",
   "execution_count": 4,
   "metadata": {},
   "outputs": [
    {
     "name": "stdout",
     "output_type": "stream",
     "text": [
      "{'baseDate': '20250716', 'baseTime': '1400', 'category': 'PTY', 'nx': 60, 'ny': 127, 'obsrValue': '1'}\n",
      "{'baseDate': '20250716', 'baseTime': '1400', 'category': 'REH', 'nx': 60, 'ny': 127, 'obsrValue': '88'}\n",
      "{'baseDate': '20250716', 'baseTime': '1400', 'category': 'RN1', 'nx': 60, 'ny': 127, 'obsrValue': '0.8'}\n",
      "{'baseDate': '20250716', 'baseTime': '1400', 'category': 'T1H', 'nx': 60, 'ny': 127, 'obsrValue': '23'}\n",
      "{'baseDate': '20250716', 'baseTime': '1400', 'category': 'UUU', 'nx': 60, 'ny': 127, 'obsrValue': '-2.9'}\n"
     ]
    }
   ],
   "source": [
    "# JSON 파싱\n",
    "data = response.json()\n",
    "# 예보 데이터 항목 접근\n",
    "items = data['response']['body']['items']['item']\n",
    "# 상위 5개 항목만 출력\n",
    "for item in items[:5]:\n",
    "    print(item)"
   ]
  },
  {
   "cell_type": "code",
   "execution_count": 5,
   "metadata": {},
   "outputs": [
    {
     "name": "stdout",
     "output_type": "stream",
     "text": [
      "<class 'dict'>\n",
      "<class 'list'>\n"
     ]
    }
   ],
   "source": [
    "print(type(data))  # 중첩된 딕셔너리 구조 \n",
    "print(type(items))"
   ]
  },
  {
   "cell_type": "code",
   "execution_count": 6,
   "metadata": {},
   "outputs": [
    {
     "name": "stdout",
     "output_type": "stream",
     "text": [
      "{\n",
      "    \"baseDate\": \"20250716\",\n",
      "    \"baseTime\": \"1400\",\n",
      "    \"category\": \"REH\",\n",
      "    \"nx\": 60,\n",
      "    \"ny\": 127,\n",
      "    \"obsrValue\": \"88\"\n",
      "}\n"
     ]
    }
   ],
   "source": [
    "import json\n",
    "print(json.dumps(items[1], indent=4, ensure_ascii=False))"
   ]
  },
  {
   "cell_type": "markdown",
   "metadata": {},
   "source": [
    "- obsrValue: RN1, T1H, UUU, VVV, WSD를 실수 또는 정수로 제공\n"
   ]
  },
  {
   "cell_type": "code",
   "execution_count": 7,
   "metadata": {},
   "outputs": [
    {
     "name": "stdout",
     "output_type": "stream",
     "text": [
      "불러온 데이터 수: 8개\n"
     ]
    }
   ],
   "source": [
    "print(f\"불러온 데이터 수: {len(items)}개\")"
   ]
  },
  {
   "cell_type": "markdown",
   "metadata": {},
   "source": [
    "### 데이터 전처리"
   ]
  },
  {
   "cell_type": "code",
   "execution_count": 8,
   "metadata": {},
   "outputs": [
    {
     "data": {
      "text/html": [
       "<div>\n",
       "<style scoped>\n",
       "    .dataframe tbody tr th:only-of-type {\n",
       "        vertical-align: middle;\n",
       "    }\n",
       "\n",
       "    .dataframe tbody tr th {\n",
       "        vertical-align: top;\n",
       "    }\n",
       "\n",
       "    .dataframe thead th {\n",
       "        text-align: right;\n",
       "    }\n",
       "</style>\n",
       "<table border=\"1\" class=\"dataframe\">\n",
       "  <thead>\n",
       "    <tr style=\"text-align: right;\">\n",
       "      <th></th>\n",
       "      <th>baseDate</th>\n",
       "      <th>baseTime</th>\n",
       "      <th>category</th>\n",
       "      <th>nx</th>\n",
       "      <th>ny</th>\n",
       "      <th>obsrValue</th>\n",
       "    </tr>\n",
       "  </thead>\n",
       "  <tbody>\n",
       "    <tr>\n",
       "      <th>0</th>\n",
       "      <td>20250716</td>\n",
       "      <td>1400</td>\n",
       "      <td>PTY</td>\n",
       "      <td>60</td>\n",
       "      <td>127</td>\n",
       "      <td>1</td>\n",
       "    </tr>\n",
       "    <tr>\n",
       "      <th>1</th>\n",
       "      <td>20250716</td>\n",
       "      <td>1400</td>\n",
       "      <td>REH</td>\n",
       "      <td>60</td>\n",
       "      <td>127</td>\n",
       "      <td>88</td>\n",
       "    </tr>\n",
       "    <tr>\n",
       "      <th>2</th>\n",
       "      <td>20250716</td>\n",
       "      <td>1400</td>\n",
       "      <td>RN1</td>\n",
       "      <td>60</td>\n",
       "      <td>127</td>\n",
       "      <td>0.8</td>\n",
       "    </tr>\n",
       "    <tr>\n",
       "      <th>3</th>\n",
       "      <td>20250716</td>\n",
       "      <td>1400</td>\n",
       "      <td>T1H</td>\n",
       "      <td>60</td>\n",
       "      <td>127</td>\n",
       "      <td>23</td>\n",
       "    </tr>\n",
       "    <tr>\n",
       "      <th>4</th>\n",
       "      <td>20250716</td>\n",
       "      <td>1400</td>\n",
       "      <td>UUU</td>\n",
       "      <td>60</td>\n",
       "      <td>127</td>\n",
       "      <td>-2.9</td>\n",
       "    </tr>\n",
       "  </tbody>\n",
       "</table>\n",
       "</div>"
      ],
      "text/plain": [
       "   baseDate baseTime category  nx   ny obsrValue\n",
       "0  20250716     1400      PTY  60  127         1\n",
       "1  20250716     1400      REH  60  127        88\n",
       "2  20250716     1400      RN1  60  127       0.8\n",
       "3  20250716     1400      T1H  60  127        23\n",
       "4  20250716     1400      UUU  60  127      -2.9"
      ]
     },
     "execution_count": 8,
     "metadata": {},
     "output_type": "execute_result"
    }
   ],
   "source": [
    "import pandas as pd\n",
    "# 데이터프레임으로 변환\n",
    "df = pd.DataFrame(items)\n",
    "df.head()\n",
    "\n",
    "# 데이터프레임으로 변환\n",
    "df = pd.DataFrame(items)\n",
    "df.head()"
   ]
  },
  {
   "cell_type": "code",
   "execution_count": 9,
   "metadata": {},
   "outputs": [
    {
     "name": "stdout",
     "output_type": "stream",
     "text": [
      "Requirement already satisfied: pandas in c:\\users\\user\\appdata\\local\\programs\\python\\python310\\lib\\site-packages (2.3.1)\n",
      "Requirement already satisfied: numpy>=1.22.4 in c:\\users\\user\\appdata\\local\\programs\\python\\python310\\lib\\site-packages (from pandas) (2.2.6)\n",
      "Requirement already satisfied: python-dateutil>=2.8.2 in c:\\users\\user\\appdata\\roaming\\python\\python310\\site-packages (from pandas) (2.9.0.post0)\n",
      "Requirement already satisfied: pytz>=2020.1 in c:\\users\\user\\appdata\\local\\programs\\python\\python310\\lib\\site-packages (from pandas) (2025.2)\n",
      "Requirement already satisfied: tzdata>=2022.7 in c:\\users\\user\\appdata\\local\\programs\\python\\python310\\lib\\site-packages (from pandas) (2025.2)\n",
      "Requirement already satisfied: six>=1.5 in c:\\users\\user\\appdata\\roaming\\python\\python310\\site-packages (from python-dateutil>=2.8.2->pandas) (1.17.0)\n"
     ]
    }
   ],
   "source": [
    "!pip install pandas\n",
    "import pandas as pd"
   ]
  },
  {
   "cell_type": "code",
   "execution_count": null,
   "metadata": {},
   "outputs": [
    {
     "name": "stdout",
     "output_type": "stream",
     "text": [
      "<class 'pandas.core.frame.DataFrame'>\n",
      "RangeIndex: 8 entries, 0 to 7\n",
      "Data columns (total 6 columns):\n",
      " #   Column     Non-Null Count  Dtype \n",
      "---  ------     --------------  ----- \n",
      " 0   baseDate   8 non-null      object\n",
      " 1   baseTime   8 non-null      object\n",
      " 2   category   8 non-null      object\n",
      " 3   nx         8 non-null      int64 \n",
      " 4   ny         8 non-null      int64 \n",
      " 5   obsrValue  8 non-null      object\n",
      "dtypes: int64(2), object(4)\n",
      "memory usage: 512.0+ bytes\n"
     ]
    }
   ],
   "source": [
    "df.info()"
   ]
  },
  {
   "cell_type": "code",
   "execution_count": 11,
   "metadata": {},
   "outputs": [
    {
     "data": {
      "text/plain": [
       "(8, 6)"
      ]
     },
     "execution_count": 11,
     "metadata": {},
     "output_type": "execute_result"
    }
   ],
   "source": [
    "# 크기 확인\n",
    "df.shape"
   ]
  },
  {
   "cell_type": "code",
   "execution_count": 12,
   "metadata": {},
   "outputs": [],
   "source": [
    "# 날짜와 시간 컬럼을 합쳐 datetime 컬럼 만들기\n",
    "df['datetime'] = pd.to_datetime(df['baseDate'] + df['baseTime'], format='%Y%m%d%H%M')"
   ]
  },
  {
   "cell_type": "code",
   "execution_count": 13,
   "metadata": {},
   "outputs": [
    {
     "data": {
      "text/html": [
       "<div>\n",
       "<style scoped>\n",
       "    .dataframe tbody tr th:only-of-type {\n",
       "        vertical-align: middle;\n",
       "    }\n",
       "\n",
       "    .dataframe tbody tr th {\n",
       "        vertical-align: top;\n",
       "    }\n",
       "\n",
       "    .dataframe thead th {\n",
       "        text-align: right;\n",
       "    }\n",
       "</style>\n",
       "<table border=\"1\" class=\"dataframe\">\n",
       "  <thead>\n",
       "    <tr style=\"text-align: right;\">\n",
       "      <th></th>\n",
       "      <th>baseDate</th>\n",
       "      <th>baseTime</th>\n",
       "      <th>category</th>\n",
       "      <th>nx</th>\n",
       "      <th>ny</th>\n",
       "      <th>obsrValue</th>\n",
       "      <th>datetime</th>\n",
       "    </tr>\n",
       "  </thead>\n",
       "  <tbody>\n",
       "    <tr>\n",
       "      <th>0</th>\n",
       "      <td>20250716</td>\n",
       "      <td>1400</td>\n",
       "      <td>PTY</td>\n",
       "      <td>60</td>\n",
       "      <td>127</td>\n",
       "      <td>1</td>\n",
       "      <td>2025-07-16 14:00:00</td>\n",
       "    </tr>\n",
       "    <tr>\n",
       "      <th>1</th>\n",
       "      <td>20250716</td>\n",
       "      <td>1400</td>\n",
       "      <td>REH</td>\n",
       "      <td>60</td>\n",
       "      <td>127</td>\n",
       "      <td>88</td>\n",
       "      <td>2025-07-16 14:00:00</td>\n",
       "    </tr>\n",
       "    <tr>\n",
       "      <th>2</th>\n",
       "      <td>20250716</td>\n",
       "      <td>1400</td>\n",
       "      <td>RN1</td>\n",
       "      <td>60</td>\n",
       "      <td>127</td>\n",
       "      <td>0.8</td>\n",
       "      <td>2025-07-16 14:00:00</td>\n",
       "    </tr>\n",
       "    <tr>\n",
       "      <th>3</th>\n",
       "      <td>20250716</td>\n",
       "      <td>1400</td>\n",
       "      <td>T1H</td>\n",
       "      <td>60</td>\n",
       "      <td>127</td>\n",
       "      <td>23</td>\n",
       "      <td>2025-07-16 14:00:00</td>\n",
       "    </tr>\n",
       "    <tr>\n",
       "      <th>4</th>\n",
       "      <td>20250716</td>\n",
       "      <td>1400</td>\n",
       "      <td>UUU</td>\n",
       "      <td>60</td>\n",
       "      <td>127</td>\n",
       "      <td>-2.9</td>\n",
       "      <td>2025-07-16 14:00:00</td>\n",
       "    </tr>\n",
       "  </tbody>\n",
       "</table>\n",
       "</div>"
      ],
      "text/plain": [
       "   baseDate baseTime category  nx   ny obsrValue            datetime\n",
       "0  20250716     1400      PTY  60  127         1 2025-07-16 14:00:00\n",
       "1  20250716     1400      REH  60  127        88 2025-07-16 14:00:00\n",
       "2  20250716     1400      RN1  60  127       0.8 2025-07-16 14:00:00\n",
       "3  20250716     1400      T1H  60  127        23 2025-07-16 14:00:00\n",
       "4  20250716     1400      UUU  60  127      -2.9 2025-07-16 14:00:00"
      ]
     },
     "execution_count": 13,
     "metadata": {},
     "output_type": "execute_result"
    }
   ],
   "source": [
    "df.head()"
   ]
  },
  {
   "cell_type": "code",
   "execution_count": 14,
   "metadata": {},
   "outputs": [
    {
     "name": "stdout",
     "output_type": "stream",
     "text": [
      "['PTY' 'REH' 'RN1' 'T1H' 'UUU' 'VEC' 'VVV' 'WSD']\n"
     ]
    }
   ],
   "source": [
    "# categry 고유값 확인\n",
    "unique_categories = df['category'].unique()\n",
    "print(unique_categories)"
   ]
  },
  {
   "cell_type": "code",
   "execution_count": 24,
   "metadata": {},
   "outputs": [
    {
     "data": {
      "text/html": [
       "<div>\n",
       "<style scoped>\n",
       "    .dataframe tbody tr th:only-of-type {\n",
       "        vertical-align: middle;\n",
       "    }\n",
       "\n",
       "    .dataframe tbody tr th {\n",
       "        vertical-align: top;\n",
       "    }\n",
       "\n",
       "    .dataframe thead th {\n",
       "        text-align: right;\n",
       "    }\n",
       "</style>\n",
       "<table border=\"1\" class=\"dataframe\">\n",
       "  <thead>\n",
       "    <tr style=\"text-align: right;\">\n",
       "      <th></th>\n",
       "      <th>baseDate</th>\n",
       "      <th>baseTime</th>\n",
       "      <th>category</th>\n",
       "      <th>nx</th>\n",
       "      <th>ny</th>\n",
       "      <th>obsrValue</th>\n",
       "      <th>datetime</th>\n",
       "      <th>category_name</th>\n",
       "    </tr>\n",
       "  </thead>\n",
       "  <tbody>\n",
       "    <tr>\n",
       "      <th>0</th>\n",
       "      <td>20250716</td>\n",
       "      <td>1500</td>\n",
       "      <td>PTY</td>\n",
       "      <td>60</td>\n",
       "      <td>127</td>\n",
       "      <td>1</td>\n",
       "      <td>2025-07-16 15:00:00</td>\n",
       "      <td>강수형태</td>\n",
       "    </tr>\n",
       "    <tr>\n",
       "      <th>1</th>\n",
       "      <td>20250716</td>\n",
       "      <td>1500</td>\n",
       "      <td>REH</td>\n",
       "      <td>60</td>\n",
       "      <td>127</td>\n",
       "      <td>92</td>\n",
       "      <td>2025-07-16 15:00:00</td>\n",
       "      <td>습도(%)</td>\n",
       "    </tr>\n",
       "    <tr>\n",
       "      <th>2</th>\n",
       "      <td>20250716</td>\n",
       "      <td>1500</td>\n",
       "      <td>RN1</td>\n",
       "      <td>60</td>\n",
       "      <td>127</td>\n",
       "      <td>1.5</td>\n",
       "      <td>2025-07-16 15:00:00</td>\n",
       "      <td>1시간 강수량(mm)</td>\n",
       "    </tr>\n",
       "    <tr>\n",
       "      <th>3</th>\n",
       "      <td>20250716</td>\n",
       "      <td>1500</td>\n",
       "      <td>T1H</td>\n",
       "      <td>60</td>\n",
       "      <td>127</td>\n",
       "      <td>22.8</td>\n",
       "      <td>2025-07-16 15:00:00</td>\n",
       "      <td>기온(℃)</td>\n",
       "    </tr>\n",
       "    <tr>\n",
       "      <th>4</th>\n",
       "      <td>20250716</td>\n",
       "      <td>1500</td>\n",
       "      <td>UUU</td>\n",
       "      <td>60</td>\n",
       "      <td>127</td>\n",
       "      <td>-2.5</td>\n",
       "      <td>2025-07-16 15:00:00</td>\n",
       "      <td>동서바람성분(m/s)</td>\n",
       "    </tr>\n",
       "  </tbody>\n",
       "</table>\n",
       "</div>"
      ],
      "text/plain": [
       "   baseDate baseTime category  nx   ny obsrValue            datetime  \\\n",
       "0  20250716     1500      PTY  60  127         1 2025-07-16 15:00:00   \n",
       "1  20250716     1500      REH  60  127        92 2025-07-16 15:00:00   \n",
       "2  20250716     1500      RN1  60  127       1.5 2025-07-16 15:00:00   \n",
       "3  20250716     1500      T1H  60  127      22.8 2025-07-16 15:00:00   \n",
       "4  20250716     1500      UUU  60  127      -2.5 2025-07-16 15:00:00   \n",
       "\n",
       "  category_name  \n",
       "0          강수형태  \n",
       "1         습도(%)  \n",
       "2   1시간 강수량(mm)  \n",
       "3         기온(℃)  \n",
       "4   동서바람성분(m/s)  "
      ]
     },
     "execution_count": 24,
     "metadata": {},
     "output_type": "execute_result"
    }
   ],
   "source": [
    "# category 해석\n",
    "category_map = {\n",
    "    \"PTY\": \"강수형태\",\n",
    "    \"REH\": \"습도(%)\",\n",
    "    \"RN1\": \"1시간 강수량(mm)\",\n",
    "    \"T1H\": \"기온(℃)\",\n",
    "    \"UUU\": \"동서바람성분(m/s)\",\n",
    "    \"VEC\":\"풍향(deg)\", \n",
    "    \"VVV\":\"남북바람성분(m/s)\",\n",
    "    \"WSD\": \"풍속(m/s)\"\n",
    "}\n",
    "# category 매핑\n",
    "df['category_name'] = df['category'].map(category_map) # key값으로 Series를 매핑\n",
    "df.head()\n"
   ]
  },
  {
   "cell_type": "code",
   "execution_count": 17,
   "metadata": {},
   "outputs": [
    {
     "ename": "KeyError",
     "evalue": "\"['category_name'] not in index\"",
     "output_type": "error",
     "traceback": [
      "\u001b[1;31m---------------------------------------------------------------------------\u001b[0m",
      "\u001b[1;31mKeyError\u001b[0m                                  Traceback (most recent call last)",
      "Cell \u001b[1;32mIn[17], line 2\u001b[0m\n\u001b[0;32m      1\u001b[0m \u001b[38;5;66;03m# 불필요한 컬럼 제거 및 정렬\u001b[39;00m\n\u001b[1;32m----> 2\u001b[0m df \u001b[38;5;241m=\u001b[39m \u001b[43mdf\u001b[49m\u001b[43m[\u001b[49m\u001b[43m[\u001b[49m\u001b[38;5;124;43m'\u001b[39;49m\u001b[38;5;124;43mdatetime\u001b[39;49m\u001b[38;5;124;43m'\u001b[39;49m\u001b[43m,\u001b[49m\u001b[43m \u001b[49m\u001b[38;5;124;43m'\u001b[39;49m\u001b[38;5;124;43mcategory\u001b[39;49m\u001b[38;5;124;43m'\u001b[39;49m\u001b[43m,\u001b[49m\u001b[43m \u001b[49m\u001b[38;5;124;43m'\u001b[39;49m\u001b[38;5;124;43mcategory_name\u001b[39;49m\u001b[38;5;124;43m'\u001b[39;49m\u001b[43m,\u001b[49m\u001b[43m \u001b[49m\u001b[38;5;124;43m'\u001b[39;49m\u001b[38;5;124;43mobsrValue\u001b[39;49m\u001b[38;5;124;43m'\u001b[39;49m\u001b[43m,\u001b[49m\u001b[43m \u001b[49m\u001b[38;5;124;43m'\u001b[39;49m\u001b[38;5;124;43mnx\u001b[39;49m\u001b[38;5;124;43m'\u001b[39;49m\u001b[43m,\u001b[49m\u001b[43m \u001b[49m\u001b[38;5;124;43m'\u001b[39;49m\u001b[38;5;124;43mny\u001b[39;49m\u001b[38;5;124;43m'\u001b[39;49m\u001b[43m]\u001b[49m\u001b[43m]\u001b[49m\n\u001b[0;32m      3\u001b[0m df \u001b[38;5;241m=\u001b[39m df\u001b[38;5;241m.\u001b[39msort_values(by\u001b[38;5;241m=\u001b[39m\u001b[38;5;124m'\u001b[39m\u001b[38;5;124mdatetime\u001b[39m\u001b[38;5;124m'\u001b[39m)\u001b[38;5;241m.\u001b[39mreset_index(drop\u001b[38;5;241m=\u001b[39m\u001b[38;5;28;01mTrue\u001b[39;00m)\n\u001b[0;32m      4\u001b[0m df\u001b[38;5;241m.\u001b[39mhead()\n",
      "File \u001b[1;32mc:\\Users\\USER\\AppData\\Local\\Programs\\Python\\Python310\\lib\\site-packages\\pandas\\core\\frame.py:4113\u001b[0m, in \u001b[0;36mDataFrame.__getitem__\u001b[1;34m(self, key)\u001b[0m\n\u001b[0;32m   4111\u001b[0m     \u001b[38;5;28;01mif\u001b[39;00m is_iterator(key):\n\u001b[0;32m   4112\u001b[0m         key \u001b[38;5;241m=\u001b[39m \u001b[38;5;28mlist\u001b[39m(key)\n\u001b[1;32m-> 4113\u001b[0m     indexer \u001b[38;5;241m=\u001b[39m \u001b[38;5;28;43mself\u001b[39;49m\u001b[38;5;241;43m.\u001b[39;49m\u001b[43mcolumns\u001b[49m\u001b[38;5;241;43m.\u001b[39;49m\u001b[43m_get_indexer_strict\u001b[49m\u001b[43m(\u001b[49m\u001b[43mkey\u001b[49m\u001b[43m,\u001b[49m\u001b[43m \u001b[49m\u001b[38;5;124;43m\"\u001b[39;49m\u001b[38;5;124;43mcolumns\u001b[39;49m\u001b[38;5;124;43m\"\u001b[39;49m\u001b[43m)\u001b[49m[\u001b[38;5;241m1\u001b[39m]\n\u001b[0;32m   4115\u001b[0m \u001b[38;5;66;03m# take() does not accept boolean indexers\u001b[39;00m\n\u001b[0;32m   4116\u001b[0m \u001b[38;5;28;01mif\u001b[39;00m \u001b[38;5;28mgetattr\u001b[39m(indexer, \u001b[38;5;124m\"\u001b[39m\u001b[38;5;124mdtype\u001b[39m\u001b[38;5;124m\"\u001b[39m, \u001b[38;5;28;01mNone\u001b[39;00m) \u001b[38;5;241m==\u001b[39m \u001b[38;5;28mbool\u001b[39m:\n",
      "File \u001b[1;32mc:\\Users\\USER\\AppData\\Local\\Programs\\Python\\Python310\\lib\\site-packages\\pandas\\core\\indexes\\base.py:6212\u001b[0m, in \u001b[0;36mIndex._get_indexer_strict\u001b[1;34m(self, key, axis_name)\u001b[0m\n\u001b[0;32m   6209\u001b[0m \u001b[38;5;28;01melse\u001b[39;00m:\n\u001b[0;32m   6210\u001b[0m     keyarr, indexer, new_indexer \u001b[38;5;241m=\u001b[39m \u001b[38;5;28mself\u001b[39m\u001b[38;5;241m.\u001b[39m_reindex_non_unique(keyarr)\n\u001b[1;32m-> 6212\u001b[0m \u001b[38;5;28;43mself\u001b[39;49m\u001b[38;5;241;43m.\u001b[39;49m\u001b[43m_raise_if_missing\u001b[49m\u001b[43m(\u001b[49m\u001b[43mkeyarr\u001b[49m\u001b[43m,\u001b[49m\u001b[43m \u001b[49m\u001b[43mindexer\u001b[49m\u001b[43m,\u001b[49m\u001b[43m \u001b[49m\u001b[43maxis_name\u001b[49m\u001b[43m)\u001b[49m\n\u001b[0;32m   6214\u001b[0m keyarr \u001b[38;5;241m=\u001b[39m \u001b[38;5;28mself\u001b[39m\u001b[38;5;241m.\u001b[39mtake(indexer)\n\u001b[0;32m   6215\u001b[0m \u001b[38;5;28;01mif\u001b[39;00m \u001b[38;5;28misinstance\u001b[39m(key, Index):\n\u001b[0;32m   6216\u001b[0m     \u001b[38;5;66;03m# GH 42790 - Preserve name from an Index\u001b[39;00m\n",
      "File \u001b[1;32mc:\\Users\\USER\\AppData\\Local\\Programs\\Python\\Python310\\lib\\site-packages\\pandas\\core\\indexes\\base.py:6264\u001b[0m, in \u001b[0;36mIndex._raise_if_missing\u001b[1;34m(self, key, indexer, axis_name)\u001b[0m\n\u001b[0;32m   6261\u001b[0m     \u001b[38;5;28;01mraise\u001b[39;00m \u001b[38;5;167;01mKeyError\u001b[39;00m(\u001b[38;5;124mf\u001b[39m\u001b[38;5;124m\"\u001b[39m\u001b[38;5;124mNone of [\u001b[39m\u001b[38;5;132;01m{\u001b[39;00mkey\u001b[38;5;132;01m}\u001b[39;00m\u001b[38;5;124m] are in the [\u001b[39m\u001b[38;5;132;01m{\u001b[39;00maxis_name\u001b[38;5;132;01m}\u001b[39;00m\u001b[38;5;124m]\u001b[39m\u001b[38;5;124m\"\u001b[39m)\n\u001b[0;32m   6263\u001b[0m not_found \u001b[38;5;241m=\u001b[39m \u001b[38;5;28mlist\u001b[39m(ensure_index(key)[missing_mask\u001b[38;5;241m.\u001b[39mnonzero()[\u001b[38;5;241m0\u001b[39m]]\u001b[38;5;241m.\u001b[39munique())\n\u001b[1;32m-> 6264\u001b[0m \u001b[38;5;28;01mraise\u001b[39;00m \u001b[38;5;167;01mKeyError\u001b[39;00m(\u001b[38;5;124mf\u001b[39m\u001b[38;5;124m\"\u001b[39m\u001b[38;5;132;01m{\u001b[39;00mnot_found\u001b[38;5;132;01m}\u001b[39;00m\u001b[38;5;124m not in index\u001b[39m\u001b[38;5;124m\"\u001b[39m)\n",
      "\u001b[1;31mKeyError\u001b[0m: \"['category_name'] not in index\""
     ]
    }
   ],
   "source": [
    "# 불필요한 컬럼 제거 및 정렬\n",
    "df = df[['datetime', 'category', 'category_name', 'obsrValue', 'nx', 'ny']]\n",
    "df = df.sort_values(by='datetime').reset_index(drop=True)\n",
    "df.head()\n"
   ]
  },
  {
   "cell_type": "code",
   "execution_count": 16,
   "metadata": {},
   "outputs": [],
   "source": [
    "# 숫자로 변환\n",
    "df['obsrValue'] = pd.to_numeric(df['obsrValue'], errors='coerce') # coerce: 숫자로 변환이 불가능한 값은 NaN으로 바꿈"
   ]
  },
  {
   "cell_type": "code",
   "execution_count": 27,
   "metadata": {},
   "outputs": [
    {
     "name": "stdout",
     "output_type": "stream",
     "text": [
      "<class 'pandas.core.frame.DataFrame'>\n",
      "RangeIndex: 8 entries, 0 to 7\n",
      "Data columns (total 6 columns):\n",
      " #   Column         Non-Null Count  Dtype         \n",
      "---  ------         --------------  -----         \n",
      " 0   datetime       8 non-null      datetime64[ns]\n",
      " 1   category       8 non-null      object        \n",
      " 2   category_name  8 non-null      object        \n",
      " 3   obsrValue      8 non-null      float64       \n",
      " 4   nx             8 non-null      int64         \n",
      " 5   ny             8 non-null      int64         \n",
      "dtypes: datetime64[ns](1), float64(1), int64(2), object(2)\n",
      "memory usage: 512.0+ bytes\n"
     ]
    }
   ],
   "source": [
    "df.info()"
   ]
  },
  {
   "cell_type": "code",
   "execution_count": 28,
   "metadata": {},
   "outputs": [
    {
     "name": "stdout",
     "output_type": "stream",
     "text": [
      "datetime         0\n",
      "category         0\n",
      "category_name    0\n",
      "obsrValue        0\n",
      "nx               0\n",
      "ny               0\n",
      "dtype: int64\n"
     ]
    }
   ],
   "source": [
    "# 결측값 개수 확인 \n",
    "print(df.isnull().sum())"
   ]
  },
  {
   "cell_type": "code",
   "execution_count": 29,
   "metadata": {},
   "outputs": [
    {
     "data": {
      "text/plain": [
       "0    False\n",
       "1    False\n",
       "2    False\n",
       "3    False\n",
       "4    False\n",
       "5    False\n",
       "6    False\n",
       "7    False\n",
       "dtype: bool"
      ]
     },
     "execution_count": 29,
     "metadata": {},
     "output_type": "execute_result"
    }
   ],
   "source": [
    "# 중복값 확인\n",
    "df.duplicated(subset=['datetime', 'category'])\n"
   ]
  },
  {
   "cell_type": "code",
   "execution_count": 30,
   "metadata": {},
   "outputs": [
    {
     "data": {
      "text/html": [
       "<div>\n",
       "<style scoped>\n",
       "    .dataframe tbody tr th:only-of-type {\n",
       "        vertical-align: middle;\n",
       "    }\n",
       "\n",
       "    .dataframe tbody tr th {\n",
       "        vertical-align: top;\n",
       "    }\n",
       "\n",
       "    .dataframe thead th {\n",
       "        text-align: right;\n",
       "    }\n",
       "</style>\n",
       "<table border=\"1\" class=\"dataframe\">\n",
       "  <thead>\n",
       "    <tr style=\"text-align: right;\">\n",
       "      <th></th>\n",
       "      <th>datetime</th>\n",
       "      <th>obsrValue</th>\n",
       "      <th>nx</th>\n",
       "      <th>ny</th>\n",
       "    </tr>\n",
       "  </thead>\n",
       "  <tbody>\n",
       "    <tr>\n",
       "      <th>count</th>\n",
       "      <td>8</td>\n",
       "      <td>8.000000</td>\n",
       "      <td>8.0</td>\n",
       "      <td>8.0</td>\n",
       "    </tr>\n",
       "    <tr>\n",
       "      <th>mean</th>\n",
       "      <td>2025-07-16 15:00:00</td>\n",
       "      <td>29.237500</td>\n",
       "      <td>60.0</td>\n",
       "      <td>127.0</td>\n",
       "    </tr>\n",
       "    <tr>\n",
       "      <th>min</th>\n",
       "      <td>2025-07-16 15:00:00</td>\n",
       "      <td>-2.500000</td>\n",
       "      <td>60.0</td>\n",
       "      <td>127.0</td>\n",
       "    </tr>\n",
       "    <tr>\n",
       "      <th>25%</th>\n",
       "      <td>2025-07-16 15:00:00</td>\n",
       "      <td>1.150000</td>\n",
       "      <td>60.0</td>\n",
       "      <td>127.0</td>\n",
       "    </tr>\n",
       "    <tr>\n",
       "      <th>50%</th>\n",
       "      <td>2025-07-16 15:00:00</td>\n",
       "      <td>2.200000</td>\n",
       "      <td>60.0</td>\n",
       "      <td>127.0</td>\n",
       "    </tr>\n",
       "    <tr>\n",
       "      <th>75%</th>\n",
       "      <td>2025-07-16 15:00:00</td>\n",
       "      <td>40.100000</td>\n",
       "      <td>60.0</td>\n",
       "      <td>127.0</td>\n",
       "    </tr>\n",
       "    <tr>\n",
       "      <th>max</th>\n",
       "      <td>2025-07-16 15:00:00</td>\n",
       "      <td>115.000000</td>\n",
       "      <td>60.0</td>\n",
       "      <td>127.0</td>\n",
       "    </tr>\n",
       "    <tr>\n",
       "      <th>std</th>\n",
       "      <td>NaN</td>\n",
       "      <td>46.888224</td>\n",
       "      <td>0.0</td>\n",
       "      <td>0.0</td>\n",
       "    </tr>\n",
       "  </tbody>\n",
       "</table>\n",
       "</div>"
      ],
      "text/plain": [
       "                  datetime   obsrValue    nx     ny\n",
       "count                    8    8.000000   8.0    8.0\n",
       "mean   2025-07-16 15:00:00   29.237500  60.0  127.0\n",
       "min    2025-07-16 15:00:00   -2.500000  60.0  127.0\n",
       "25%    2025-07-16 15:00:00    1.150000  60.0  127.0\n",
       "50%    2025-07-16 15:00:00    2.200000  60.0  127.0\n",
       "75%    2025-07-16 15:00:00   40.100000  60.0  127.0\n",
       "max    2025-07-16 15:00:00  115.000000  60.0  127.0\n",
       "std                    NaN   46.888224   0.0    0.0"
      ]
     },
     "execution_count": 30,
     "metadata": {},
     "output_type": "execute_result"
    }
   ],
   "source": [
    "# 통계 분포 확인\n",
    "df.describe()"
   ]
  },
  {
   "cell_type": "code",
   "execution_count": 31,
   "metadata": {},
   "outputs": [],
   "source": [
    "!pip install -q seaborn"
   ]
  },
  {
   "cell_type": "code",
   "execution_count": 32,
   "metadata": {},
   "outputs": [
    {
     "data": {
      "image/png": "[encoded data removed]",
      "text/plain": [
       "<Figure size 1000x500 with 1 Axes>"
      ]
     },
     "metadata": {},
     "output_type": "display_data"
    }
   ],
   "source": [
    "import seaborn as sns\n",
    "import matplotlib.pyplot as plt\n",
    "\n",
    "# 카테고리별 boxplot\n",
    "plt.figure(figsize=(10, 5))\n",
    "sns.boxplot(x='category', y='obsrValue', data=df)\n",
    "plt.title(\"obsrValue for category\")\n",
    "plt.show()"
   ]
  },
  {
   "cell_type": "markdown",
   "metadata": {},
   "source": [
    "VEC(풍향)은 보통 0-360 사이의 정수이므로 이상치가 아님\n",
    "- 0도 = 북쪽\n",
    "- 90도 = 동쪽\n",
    "- 180도 = 남쪽\n",
    "- 270도 = 서쪽"
   ]
  },
  {
   "cell_type": "markdown",
   "metadata": {},
   "source": [
    "### DB에 저장 \n",
    "SQLite에 저장 "
   ]
  },
  {
   "cell_type": "code",
   "execution_count": 33,
   "metadata": {},
   "outputs": [
    {
     "name": "stdout",
     "output_type": "stream",
     "text": [
      "SQLite DB 저장 완료\n"
     ]
    }
   ],
   "source": [
    "import sqlite3\n",
    "\n",
    "# DB 연결(없으면 새로 생성)\n",
    "conn = sqlite3.connect(\"weather_data.db\")\n",
    "\n",
    "# 테이블 이름 예시: observed_weather\n",
    "df.to_sql(\"observed_weather\", conn, if_exists=\"append\", index=False) # append: 기존 테이블에 이어 저장\n",
    "\n",
    "# 연결 종료\n",
    "conn.commit()\n",
    "conn.close()\n",
    "\n",
    "print(\"SQLite DB 저장 완료\")\n"
   ]
  },
  {
   "cell_type": "code",
   "execution_count": 36,
   "metadata": {},
   "outputs": [
    {
     "name": "stdout",
     "output_type": "stream",
     "text": [
      "dtype 지정 후 SQLite에 observed_weather 테이블 저장 완료\n"
     ]
    }
   ],
   "source": [
    "# 데이터 타입 지정\n",
    "from sqlalchemy import create_engine, String, Float, Integer, DateTime\n",
    "\n",
    "# SQLAlchemy 엔진 생성 (to_sql의 dtype 인자 활용)\n",
    "engine = create_engine('sqlite:///weather_data.db', echo=False) # echo=False: 실행되는 SQL 쿼리를 콘솔에 출력 X\n",
    "\n",
    "# dtype 매핑\n",
    "dtype_map = {\n",
    "    \"datetime\": DateTime(),\n",
    "    \"category\": String(10),  # 코드\n",
    "    \"category_name\": String(50),  # 한글 \n",
    "    \"obsrValue\": Float(),\n",
    "    \"nx\": Integer(),     \n",
    "    \"ny\": Integer()\n",
    "}\n",
    "\n",
    "# 저장(dtype 지정): weather_data DB 내 테이블로 저장 \n",
    "df.to_sql(\"observed_weather\", con=engine, if_exists=\"append\", index=False, dtype=dtype_map)\n",
    "# con: DB와 연결을 의미하는 객체, Pandas가 DB와 소통할 수 있게 연결\n",
    "print(\"dtype 지정 후 SQLite에 observed_weather 테이블 저장 완료\")\n"
   ]
  },
  {
   "cell_type": "code",
   "execution_count": 35,
   "metadata": {},
   "outputs": [
    {
     "name": "stdout",
     "output_type": "stream",
     "text": [
      "Collecting SQLAlchemy\n",
      "  Downloading sqlalchemy-2.0.41-cp310-cp310-win_amd64.whl.metadata (9.8 kB)\n",
      "Collecting greenlet>=1 (from SQLAlchemy)\n",
      "  Downloading greenlet-3.2.3-cp310-cp310-win_amd64.whl.metadata (4.2 kB)\n",
      "Requirement already satisfied: typing-extensions>=4.6.0 in c:\\users\\user\\appdata\\roaming\\python\\python310\\site-packages (from SQLAlchemy) (4.14.1)\n",
      "Downloading sqlalchemy-2.0.41-cp310-cp310-win_amd64.whl (2.1 MB)\n",
      "   ---------------------------------------- 0.0/2.1 MB ? eta -:--:--\n",
      "   ---------------------------------------- 2.1/2.1 MB 39.3 MB/s eta 0:00:00\n",
      "Downloading greenlet-3.2.3-cp310-cp310-win_amd64.whl (296 kB)\n",
      "Installing collected packages: greenlet, SQLAlchemy\n",
      "\n",
      "   -------------------- ------------------- 1/2 [SQLAlchemy]\n",
      "   -------------------- ------------------- 1/2 [SQLAlchemy]\n",
      "   -------------------- ------------------- 1/2 [SQLAlchemy]\n",
      "   -------------------- ------------------- 1/2 [SQLAlchemy]\n",
      "   -------------------- ------------------- 1/2 [SQLAlchemy]\n",
      "   -------------------- ------------------- 1/2 [SQLAlchemy]\n",
      "   -------------------- ------------------- 1/2 [SQLAlchemy]\n",
      "   ---------------------------------------- 2/2 [SQLAlchemy]\n",
      "\n",
      "Successfully installed SQLAlchemy-2.0.41 greenlet-3.2.3\n"
     ]
    }
   ],
   "source": [
    "!pip install SQLAlchemy\n"
   ]
  },
  {
   "cell_type": "code",
   "execution_count": 38,
   "metadata": {},
   "outputs": [
    {
     "data": {
      "text/html": [
       "<div>\n",
       "<style scoped>\n",
       "    .dataframe tbody tr th:only-of-type {\n",
       "        vertical-align: middle;\n",
       "    }\n",
       "\n",
       "    .dataframe tbody tr th {\n",
       "        vertical-align: top;\n",
       "    }\n",
       "\n",
       "    .dataframe thead th {\n",
       "        text-align: right;\n",
       "    }\n",
       "</style>\n",
       "<table border=\"1\" class=\"dataframe\">\n",
       "  <thead>\n",
       "    <tr style=\"text-align: right;\">\n",
       "      <th></th>\n",
       "      <th>datetime</th>\n",
       "      <th>category</th>\n",
       "      <th>category_name</th>\n",
       "      <th>obsrValue</th>\n",
       "      <th>nx</th>\n",
       "      <th>ny</th>\n",
       "    </tr>\n",
       "  </thead>\n",
       "  <tbody>\n",
       "    <tr>\n",
       "      <th>0</th>\n",
       "      <td>2025-07-16 15:00:00</td>\n",
       "      <td>T1H</td>\n",
       "      <td>기온(℃)</td>\n",
       "      <td>22.8</td>\n",
       "      <td>60</td>\n",
       "      <td>127</td>\n",
       "    </tr>\n",
       "    <tr>\n",
       "      <th>1</th>\n",
       "      <td>2025-07-16 15:00:00.000000</td>\n",
       "      <td>T1H</td>\n",
       "      <td>기온(℃)</td>\n",
       "      <td>22.8</td>\n",
       "      <td>60</td>\n",
       "      <td>127</td>\n",
       "    </tr>\n",
       "  </tbody>\n",
       "</table>\n",
       "</div>"
      ],
      "text/plain": [
       "                     datetime category category_name  obsrValue  nx   ny\n",
       "0         2025-07-16 15:00:00      T1H         기온(℃)       22.8  60  127\n",
       "1  2025-07-16 15:00:00.000000      T1H         기온(℃)       22.8  60  127"
      ]
     },
     "execution_count": 38,
     "metadata": {},
     "output_type": "execute_result"
    }
   ],
   "source": [
    "# 조회\n",
    "query = \"SELECT * FROM observed_weather WHERE category = 'T1H'\"\n",
    "result_df = pd.read_sql(query, con=engine)\n",
    "result_df "
   ]
  },
  {
   "cell_type": "code",
   "execution_count": null,
   "metadata": {},
   "outputs": [],
   "source": []
  }
 ],
 "metadata": {
  "kernelspec": {
   "display_name": "Python 3",
   "language": "python",
   "name": "python3"
  },
  "language_info": {
   "codemirror_mode": {
    "name": "ipython",
    "version": 3
   },
   "file_extension": ".py",
   "mimetype": "text/x-python",
   "name": "python",
   "nbconvert_exporter": "python",
   "pygments_lexer": "ipython3",
   "version": "3.10.10"
  }
 },
 "nbformat": 4,
 "nbformat_minor": 2
}
