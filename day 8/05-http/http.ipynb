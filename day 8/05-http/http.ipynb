{
 "cells": [
  {
   "cell_type": "code",
   "execution_count": 1,
   "metadata": {},
   "outputs": [
    {
     "name": "stdout",
     "output_type": "stream",
     "text": [
      "상태 코드: 200\n",
      "데이터: {'userId': 1, 'id': 1, 'title': 'sunt aut facere repellat provident occaecati excepturi optio reprehenderit', 'body': 'quia et suscipit\\nsuscipit recusandae consequuntur expedita et cum\\nreprehenderit molestiae ut ut quas totam\\nnostrum rerum est autem sunt rem eveniet architecto'}\n"
     ]
    }
   ],
   "source": [
    "import requests\n",
    "# GET: 데이터 요청\n",
    "url = \"https://jsonplaceholder.typicode.com/posts/1\"\n",
    "response = requests.get(url)\n",
    "\n",
    "print(\"상태 코드:\", response.status_code)\n",
    "print(\"데이터:\", response.json())"
   ]
  },
  {
   "cell_type": "code",
   "execution_count": null,
   "metadata": {},
   "outputs": [
    {
     "name": "stdout",
     "output_type": "stream",
     "text": [
      "응답 코드: 201\n",
      "응답 데이터: {'title': '실습 제목', 'body': '본문 내용', 'userId': 1, 'id': 101}\n"
     ]
    }
   ],
   "source": [
    "# POST: 데이터 생성 요청\n",
    "url = \"https://jsonplaceholder.typicode.com/posts\"\n",
    "\n",
    "# 전송할 데이터 내용\n",
    "payload = {\n",
    "    \"title\": \"실습 제목\",\n",
    "    \"body\": \"본문 내용\",\n",
    "    \"userId\": 1\n",
    "}\n",
    "response = requests.post(url, json=payload)\n",
    "\n",
    "print(\"응답 코드:\", response.status_code)\n",
    "print(\"응답 데이터:\", response.json())\n"
   ]
  },
  {
   "cell_type": "code",
   "execution_count": 2,
   "metadata": {},
   "outputs": [
    {
     "name": "stdout",
     "output_type": "stream",
     "text": [
      "Status: 200\n",
      "Response: {'id': 1, 'title': 'Updated Title', 'body': 'Updated content using PUT method.', 'userId': 1}\n"
     ]
    }
   ],
   "source": [
    "# PUT: 기존 게시물 전체 수정 요청\n",
    "url = \"https://jsonplaceholder.typicode.com/posts/1\"\n",
    "\n",
    "data = {\n",
    "    \"id\": 1,\n",
    "    \"title\": \"Updated Title\",\n",
    "    \"body\": \"Updated content using PUT method.\",\n",
    "    \"userId\": 1\n",
    "}\n",
    "\n",
    "response = requests.put(url, json=data)\n",
    "\n",
    "print(\"Status:\", response.status_code)\n",
    "print(\"Response:\", response.json())"
   ]
  },
  {
   "cell_type": "code",
   "execution_count": 8,
   "metadata": {},
   "outputs": [
    {
     "name": "stdout",
     "output_type": "stream",
     "text": [
      "Status: 200\n",
      "Response: {}\n"
     ]
    }
   ],
   "source": [
    "# DELETE:게시물 삭제\n",
    "url = \"https://jsonplaceholder.typicode.com/posts/1\"\n",
    "\n",
    "response = requests.delete(url)\n",
    "\n",
    "print(\"Status:\", response.status_code)\n",
    "print(\"Response:\", response.text)"
   ]
  },
  {
   "cell_type": "code",
   "execution_count": 11,
   "metadata": {},
   "outputs": [
    {
     "name": "stdout",
     "output_type": "stream",
     "text": [
      "Status: 200\n",
      "Response: {'userId': 1, 'id': 1, 'title': 'Only Title Updated', 'body': 'quia et suscipit\\nsuscipit recusandae consequuntur expedita et cum\\nreprehenderit molestiae ut ut quas totam\\nnostrum rerum est autem sunt rem eveniet architecto'}\n"
     ]
    }
   ],
   "source": [
    "# PATCH: 부분 수정\n",
    "\n",
    "url = \"https://jsonplaceholder.typicode.com/posts/1\"\n",
    "data = {\n",
    "    \"title\": \"Only Title Updated\"\n",
    "}\n",
    "\n",
    "response = requests.patch(url, json=data)\n",
    "\n",
    "print(\"Status:\", response.status_code)\n",
    "print(\"Response:\", response.json())"
   ]
  },
  {
   "cell_type": "code",
   "execution_count": 13,
   "metadata": {},
   "outputs": [
    {
     "name": "stdout",
     "output_type": "stream",
     "text": [
      "{\n",
      "  \"userId\": 1,\n",
      "  \"id\": 1,\n",
      "  \"title\": \"sunt aut facere repellat provident occaecati excepturi optio reprehenderit\",\n",
      "  \"body\": \"quia et suscipit\\nsuscipit recusandae consequuntur expedita et cum\\nreprehenderit molestiae ut ut quas totam\\nnostrum rerum est autem sunt rem eveniet architecto\"\n",
      "}\n",
      "{\n",
      "  \"userId\": 1,\n",
      "  \"id\": 1,\n",
      "  \"title\": \"Updated Title via PATCH\",\n",
      "  \"body\": \"quia et suscipit\\nsuscipit recusandae consequuntur expedita et cum\\nreprehenderit molestiae ut ut quas totam\\nnostrum rerum est autem sunt rem eveniet architecto\"\n",
      "}\n"
     ]
    }
   ],
   "source": [
    "import json\n",
    "\n",
    "# 수정 전 데이터 확인\n",
    "url = \"https://jsonplaceholder.typicode.com/posts/1\"\n",
    "before = requests.get(url).json()\n",
    "\n",
    "print(json.dumps(before, indent=2))\n",
    "\n",
    "# PATCH 요청으로 일부 수정\n",
    "patch_data = {\n",
    "    \"title\": \"Updated Title via PATCH\"\n",
    "}\n",
    "patch_response = requests.patch(url, json=patch_data)\n",
    "\n",
    "print(json.dumps(patch_response.json(), indent=2))"
   ]
  },
  {
   "cell_type": "code",
   "execution_count": null,
   "metadata": {},
   "outputs": [],
   "source": []
  }
 ],
 "metadata": {
  "kernelspec": {
   "display_name": "Python 3",
   "language": "python",
   "name": "python3"
  },
  "language_info": {
   "codemirror_mode": {
    "name": "ipython",
    "version": 3
   },
   "file_extension": ".py",
   "mimetype": "text/x-python",
   "name": "python",
   "nbconvert_exporter": "python",
   "pygments_lexer": "ipython3",
   "version": "3.10.10"
  }
 },
 "nbformat": 4,
 "nbformat_minor": 2
}
